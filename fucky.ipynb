{
  "cells": [
    {
      "cell_type": "markdown",
      "metadata": {
        "id": "u6EB0OtAoGy6"
      },
      "source": [
        "# Predicting Potential Strokes\n",
        "\n",
        "Group Members: Maxwell Arena, Nathan Poteet, Sanjay Srikumar, Akshay Shivkumar\n",
        "\n",
        "# Why is it important to predict strokes?\n",
        "Strokes are the 4th health related cause of death in the United States, trailing behind Heart Disease, Cancer, and Lower Respiratory Ilnesses. In 2019 alone, there were 150,005 deaths related to strokes. There is a lot of overlap between heart disease and strokes according to the CDC, and as they are all cardiovasular illnesses, which combined, account for 1/3 of all deaths in the United States. There are a number of ways that strokes affect the daily lives of people in this country, such as loss of major sensory function and reduced brain capacity. We see that dogs are fit to predict cancer in potential cancer patients given a blood sample to almost a 97% accuracy. \n",
        "\n",
        "Sources taken from statistics from the Center for Disease Control (cdc.gov)\n",
        "\n",
        "\n",
        "\n",
        "\n",
        "\n"
      ]
    },
    {
      "cell_type": "code",
      "execution_count": 162,
      "metadata": {
        "colab": {
          "base_uri": "https://localhost:8080/"
        },
        "id": "pZSdg48fi0u8",
        "outputId": "437f8b61-375a-4523-bcb6-0fcac8ee3a26"
      },
      "outputs": [],
      "source": [
        "import pandas as pd\n",
        "import numpy as np\n",
        "import matplotlib.pyplot as plt\n",
        "from scipy.stats import f\n",
        "from sklearn import model_selection\n",
        "from sklearn import linear_model\n",
        "from sklearn import preprocessing\n",
        "from sklearn.preprocessing import LabelEncoder\n",
        "import statsmodels.formula.api as smf\n",
        "import requests\n",
        "from sklearn import svm, tree\n",
        "from sklearn.model_selection import train_test_split\n",
        "from sklearn.svm import SVC\n",
        "from sklearn.metrics import classification_report, confusion_matrix\n",
        "\n",
        "import tensorflow as tf\n",
        "from tensorflow.keras.models import Sequential\n",
        "from tensorflow.keras.layers import Dense, Activation, BatchNormalization, Dropout\n",
        "from tensorflow.keras.callbacks import ModelCheckpoint, EarlyStopping\n",
        "from matplotlib import pyplot\n",
        "from keras.callbacks import LearningRateScheduler, ReduceLROnPlateau\n",
        "import keras\n"
      ]
    },
    {
      "cell_type": "code",
      "execution_count": 163,
      "metadata": {
        "colab": {
          "base_uri": "https://localhost:8080/",
          "height": 423
        },
        "id": "mCcZz3HwnYu4",
        "outputId": "34f25d75-879a-430f-f1d2-7ba2e5613317"
      },
      "outputs": [
        {
          "data": {
            "text/html": [
              "<div>\n",
              "<style scoped>\n",
              "    .dataframe tbody tr th:only-of-type {\n",
              "        vertical-align: middle;\n",
              "    }\n",
              "\n",
              "    .dataframe tbody tr th {\n",
              "        vertical-align: top;\n",
              "    }\n",
              "\n",
              "    .dataframe thead th {\n",
              "        text-align: right;\n",
              "    }\n",
              "</style>\n",
              "<table border=\"1\" class=\"dataframe\">\n",
              "  <thead>\n",
              "    <tr style=\"text-align: right;\">\n",
              "      <th></th>\n",
              "      <th>id</th>\n",
              "      <th>gender</th>\n",
              "      <th>age</th>\n",
              "      <th>hypertension</th>\n",
              "      <th>heart_disease</th>\n",
              "      <th>ever_married</th>\n",
              "      <th>work_type</th>\n",
              "      <th>Residence_type</th>\n",
              "      <th>avg_glucose_level</th>\n",
              "      <th>bmi</th>\n",
              "      <th>smoking_status</th>\n",
              "      <th>stroke</th>\n",
              "    </tr>\n",
              "  </thead>\n",
              "  <tbody>\n",
              "    <tr>\n",
              "      <th>0</th>\n",
              "      <td>9046</td>\n",
              "      <td>Male</td>\n",
              "      <td>67.0</td>\n",
              "      <td>0</td>\n",
              "      <td>1</td>\n",
              "      <td>Yes</td>\n",
              "      <td>Private</td>\n",
              "      <td>Urban</td>\n",
              "      <td>228.69</td>\n",
              "      <td>36.6</td>\n",
              "      <td>formerly smoked</td>\n",
              "      <td>1</td>\n",
              "    </tr>\n",
              "    <tr>\n",
              "      <th>1</th>\n",
              "      <td>51676</td>\n",
              "      <td>Female</td>\n",
              "      <td>61.0</td>\n",
              "      <td>0</td>\n",
              "      <td>0</td>\n",
              "      <td>Yes</td>\n",
              "      <td>Self-employed</td>\n",
              "      <td>Rural</td>\n",
              "      <td>202.21</td>\n",
              "      <td>NaN</td>\n",
              "      <td>never smoked</td>\n",
              "      <td>1</td>\n",
              "    </tr>\n",
              "    <tr>\n",
              "      <th>2</th>\n",
              "      <td>31112</td>\n",
              "      <td>Male</td>\n",
              "      <td>80.0</td>\n",
              "      <td>0</td>\n",
              "      <td>1</td>\n",
              "      <td>Yes</td>\n",
              "      <td>Private</td>\n",
              "      <td>Rural</td>\n",
              "      <td>105.92</td>\n",
              "      <td>32.5</td>\n",
              "      <td>never smoked</td>\n",
              "      <td>1</td>\n",
              "    </tr>\n",
              "    <tr>\n",
              "      <th>3</th>\n",
              "      <td>60182</td>\n",
              "      <td>Female</td>\n",
              "      <td>49.0</td>\n",
              "      <td>0</td>\n",
              "      <td>0</td>\n",
              "      <td>Yes</td>\n",
              "      <td>Private</td>\n",
              "      <td>Urban</td>\n",
              "      <td>171.23</td>\n",
              "      <td>34.4</td>\n",
              "      <td>smokes</td>\n",
              "      <td>1</td>\n",
              "    </tr>\n",
              "    <tr>\n",
              "      <th>4</th>\n",
              "      <td>1665</td>\n",
              "      <td>Female</td>\n",
              "      <td>79.0</td>\n",
              "      <td>1</td>\n",
              "      <td>0</td>\n",
              "      <td>Yes</td>\n",
              "      <td>Self-employed</td>\n",
              "      <td>Rural</td>\n",
              "      <td>174.12</td>\n",
              "      <td>24.0</td>\n",
              "      <td>never smoked</td>\n",
              "      <td>1</td>\n",
              "    </tr>\n",
              "    <tr>\n",
              "      <th>...</th>\n",
              "      <td>...</td>\n",
              "      <td>...</td>\n",
              "      <td>...</td>\n",
              "      <td>...</td>\n",
              "      <td>...</td>\n",
              "      <td>...</td>\n",
              "      <td>...</td>\n",
              "      <td>...</td>\n",
              "      <td>...</td>\n",
              "      <td>...</td>\n",
              "      <td>...</td>\n",
              "      <td>...</td>\n",
              "    </tr>\n",
              "    <tr>\n",
              "      <th>5105</th>\n",
              "      <td>18234</td>\n",
              "      <td>Female</td>\n",
              "      <td>80.0</td>\n",
              "      <td>1</td>\n",
              "      <td>0</td>\n",
              "      <td>Yes</td>\n",
              "      <td>Private</td>\n",
              "      <td>Urban</td>\n",
              "      <td>83.75</td>\n",
              "      <td>NaN</td>\n",
              "      <td>never smoked</td>\n",
              "      <td>0</td>\n",
              "    </tr>\n",
              "    <tr>\n",
              "      <th>5106</th>\n",
              "      <td>44873</td>\n",
              "      <td>Female</td>\n",
              "      <td>81.0</td>\n",
              "      <td>0</td>\n",
              "      <td>0</td>\n",
              "      <td>Yes</td>\n",
              "      <td>Self-employed</td>\n",
              "      <td>Urban</td>\n",
              "      <td>125.20</td>\n",
              "      <td>40.0</td>\n",
              "      <td>never smoked</td>\n",
              "      <td>0</td>\n",
              "    </tr>\n",
              "    <tr>\n",
              "      <th>5107</th>\n",
              "      <td>19723</td>\n",
              "      <td>Female</td>\n",
              "      <td>35.0</td>\n",
              "      <td>0</td>\n",
              "      <td>0</td>\n",
              "      <td>Yes</td>\n",
              "      <td>Self-employed</td>\n",
              "      <td>Rural</td>\n",
              "      <td>82.99</td>\n",
              "      <td>30.6</td>\n",
              "      <td>never smoked</td>\n",
              "      <td>0</td>\n",
              "    </tr>\n",
              "    <tr>\n",
              "      <th>5108</th>\n",
              "      <td>37544</td>\n",
              "      <td>Male</td>\n",
              "      <td>51.0</td>\n",
              "      <td>0</td>\n",
              "      <td>0</td>\n",
              "      <td>Yes</td>\n",
              "      <td>Private</td>\n",
              "      <td>Rural</td>\n",
              "      <td>166.29</td>\n",
              "      <td>25.6</td>\n",
              "      <td>formerly smoked</td>\n",
              "      <td>0</td>\n",
              "    </tr>\n",
              "    <tr>\n",
              "      <th>5109</th>\n",
              "      <td>44679</td>\n",
              "      <td>Female</td>\n",
              "      <td>44.0</td>\n",
              "      <td>0</td>\n",
              "      <td>0</td>\n",
              "      <td>Yes</td>\n",
              "      <td>Govt_job</td>\n",
              "      <td>Urban</td>\n",
              "      <td>85.28</td>\n",
              "      <td>26.2</td>\n",
              "      <td>Unknown</td>\n",
              "      <td>0</td>\n",
              "    </tr>\n",
              "  </tbody>\n",
              "</table>\n",
              "<p>5110 rows × 12 columns</p>\n",
              "</div>"
            ],
            "text/plain": [
              "         id  gender   age  hypertension  heart_disease ever_married  \\\n",
              "0      9046    Male  67.0             0              1          Yes   \n",
              "1     51676  Female  61.0             0              0          Yes   \n",
              "2     31112    Male  80.0             0              1          Yes   \n",
              "3     60182  Female  49.0             0              0          Yes   \n",
              "4      1665  Female  79.0             1              0          Yes   \n",
              "...     ...     ...   ...           ...            ...          ...   \n",
              "5105  18234  Female  80.0             1              0          Yes   \n",
              "5106  44873  Female  81.0             0              0          Yes   \n",
              "5107  19723  Female  35.0             0              0          Yes   \n",
              "5108  37544    Male  51.0             0              0          Yes   \n",
              "5109  44679  Female  44.0             0              0          Yes   \n",
              "\n",
              "          work_type Residence_type  avg_glucose_level   bmi   smoking_status  \\\n",
              "0           Private          Urban             228.69  36.6  formerly smoked   \n",
              "1     Self-employed          Rural             202.21   NaN     never smoked   \n",
              "2           Private          Rural             105.92  32.5     never smoked   \n",
              "3           Private          Urban             171.23  34.4           smokes   \n",
              "4     Self-employed          Rural             174.12  24.0     never smoked   \n",
              "...             ...            ...                ...   ...              ...   \n",
              "5105        Private          Urban              83.75   NaN     never smoked   \n",
              "5106  Self-employed          Urban             125.20  40.0     never smoked   \n",
              "5107  Self-employed          Rural              82.99  30.6     never smoked   \n",
              "5108        Private          Rural             166.29  25.6  formerly smoked   \n",
              "5109       Govt_job          Urban              85.28  26.2          Unknown   \n",
              "\n",
              "      stroke  \n",
              "0          1  \n",
              "1          1  \n",
              "2          1  \n",
              "3          1  \n",
              "4          1  \n",
              "...      ...  \n",
              "5105       0  \n",
              "5106       0  \n",
              "5107       0  \n",
              "5108       0  \n",
              "5109       0  \n",
              "\n",
              "[5110 rows x 12 columns]"
            ]
          },
          "execution_count": 163,
          "metadata": {},
          "output_type": "execute_result"
        }
      ],
      "source": [
        "original_df = pd.read_csv('./healthcare-dataset-stroke-data.csv')\n",
        "original_df"
      ]
    },
    {
      "cell_type": "code",
      "execution_count": 164,
      "metadata": {
        "colab": {
          "base_uri": "https://localhost:8080/",
          "height": 1000
        },
        "id": "7OJz391cFk4L",
        "outputId": "469493bf-7043-4f40-bec2-358f0bb0a4cf"
      },
      "outputs": [
        {
          "name": "stdout",
          "output_type": "stream",
          "text": [
            "age                  0.232331\n",
            "hypertension         0.142515\n",
            "heart_disease        0.137938\n",
            "avg_glucose_level    0.138936\n",
            "bmi                  0.042374\n",
            "stroke               1.000000\n",
            "dtype: float64\n"
          ]
        }
      ],
      "source": [
        "df = original_df.copy().dropna() # Getting rid of rows with NaN \n",
        "\n",
        "# Mapping categorical variables to numbers so the model can make sense of data\n",
        "dict1 = {'Self-employed': 0, 'Private': 1, 'Govt_job': 2, 'children': 3, 'Never_worked': 4}\n",
        "dict2 = {'Male': 0, 'Female': 1, 'Other': 2}\n",
        "dict3 = {'never smoked': 0, 'formerly smoked': 1, 'Unknown': 2, 'smokes': 3}\n",
        "dict4 = {'Urban': 0, 'Rural': 1}\n",
        "dict5 = {'No': 0, 'Yes': 1}\n",
        "for row in df.iterrows():\n",
        "  df.at[row[0], 'work_type'] = dict1[row[1]['work_type']]\n",
        "  df.at[row[0], 'gender'] = dict2[row[1]['gender']]\n",
        "  df.at[row[0], 'smoking_status'] = dict3[row[1]['smoking_status']]\n",
        "  df.at[row[0], 'Residence_type'] = dict4[row[1]['Residence_type']]\n",
        "  df.at[row[0], 'ever_married'] = dict5[row[1]['ever_married']]\n",
        "  \n",
        "encoded_data= df.drop(['stroke', 'id'], axis=1) #one hot encoded sort of\n",
        "encoded_data['avg_glucose_level'] = (np.array(encoded_data['avg_glucose_level']) - np.mean(encoded_data['avg_glucose_level']))/max(encoded_data['avg_glucose_level'])\n",
        "encoded_data['bmi'] = (np.array(encoded_data['bmi']) - np.mean(encoded_data['bmi']))/max(encoded_data['bmi'])\n",
        "encoded_data['age'] = (np.array(encoded_data['age']) - np.mean(encoded_data['age']))/max(encoded_data['age'])\n",
        "encoded_data['stroke'] = df['stroke']\n",
        "correlations = encoded_data.corrwith(encoded_data[\"stroke\"]) #correlation of variables in original df\n",
        "print(correlations)\n"
      ]
    },
    {
      "cell_type": "code",
      "execution_count": 196,
      "metadata": {},
      "outputs": [],
      "source": [
        "def confusion_mtrx(actual, prediction):\n",
        "    # if not isinstance(actual, np.ndarray):\n",
        "    #     print(type(actual))\n",
        "    #     prediction = tf.make_ndarray(prediction)\n",
        "    #     actual = tf.make_ndarray(actual)\n",
        "    # View results as a confusion matrix to visualize our performance metrics\n",
        "    cm = confusion_matrix(actual, prediction)\n",
        "    cm = np.array(confusion_matrix(actual, prediction, labels=[1,0]))\n",
        "    confusion_tree = pd.DataFrame(cm, index=['stroke', 'no_stroke'],\n",
        "                            columns=['predicted_stroke','predicted_no_stroke'])\n",
        "    print('Confusion matrix for model: \\n', confusion_tree)\n",
        "    print('Classification report: \\n', classification_report(actual, prediction))"
      ]
    },
    {
      "cell_type": "code",
      "execution_count": 166,
      "metadata": {},
      "outputs": [
        {
          "name": "stdout",
          "output_type": "stream",
          "text": [
            "Features:  ['gender', 'age', 'hypertension', 'heart_disease', 'ever_married', 'work_type', 'Residence_type', 'avg_glucose_level', 'bmi', 'smoking_status', 'stroke']\n",
            "(4909, 10)\n"
          ]
        }
      ],
      "source": [
        "print(\"Features: \", list(encoded_data.keys()))\n",
        "data = np.asarray(encoded_data.drop(['stroke'], axis = 1))\n",
        "print(np.shape(data))\n",
        "X_train, X_test, Y_train, Y_test = train_test_split(data, encoded_data['stroke'], test_size = 0.3, random_state = 78)\n",
        "X_train, X_test, Y_train, Y_test = X_train.astype(np.float), X_test.astype(np.float), Y_train.astype(np.float), Y_test.astype(np.float)"
      ]
    },
    {
      "cell_type": "code",
      "execution_count": 167,
      "metadata": {},
      "outputs": [
        {
          "name": "stdout",
          "output_type": "stream",
          "text": [
            "Testing Size before Oversampling: 3436\n",
            "Number of positives before Oversampling:  137\n",
            "Testing Size with Ovesampling: 5491\n",
            "Number of positives after Oversampling:  2055\n"
          ]
        }
      ],
      "source": [
        "\n",
        "#1-20 bias\n",
        "print(\"Testing Size before Oversampling:\", len(X_train))\n",
        "oversample = list([i for i,j in zip(X_train,Y_train) if j == 1])\n",
        "print(\"Number of positives before Oversampling: \", len(oversample))\n",
        "X_train = np.array(list(X_train) + (15 * oversample))\n",
        "Y_train = np.array(list(Y_train) + (15*len(oversample) * [1]))\n",
        "print(\"Testing Size with Ovesampling:\", len(X_train))\n",
        "print(\"Number of positives after Oversampling: \", 15*len(oversample))\n"
      ]
    },
    {
      "cell_type": "code",
      "execution_count": 168,
      "metadata": {},
      "outputs": [
        {
          "name": "stdout",
          "output_type": "stream",
          "text": [
            "Confusion matrix for model: \n",
            "            predicted_stroke  predicted_no_stroke\n",
            "stroke                    8                   64\n",
            "no_stroke                59                 1342\n",
            "Classification report: \n",
            "               precision    recall  f1-score   support\n",
            "\n",
            "         0.0       0.95      0.96      0.96      1401\n",
            "         1.0       0.12      0.11      0.12        72\n",
            "\n",
            "    accuracy                           0.92      1473\n",
            "   macro avg       0.54      0.53      0.54      1473\n",
            "weighted avg       0.91      0.92      0.92      1473\n",
            "\n"
          ]
        },
        {
          "data": {
            "text/plain": [
              "0"
            ]
          },
          "execution_count": 168,
          "metadata": {},
          "output_type": "execute_result"
        }
      ],
      "source": [
        "#DECISION TREE\n",
        "tree_model = tree.DecisionTreeClassifier()\n",
        "tree_model.fit(X_train, Y_train)\n",
        "y_predict_tree = tree_model.predict(X_test)\n",
        "confusion_mtrx(np.array(Y_test), np.array(y_predict_tree))\n"
      ]
    },
    {
      "cell_type": "code",
      "execution_count": 169,
      "metadata": {},
      "outputs": [
        {
          "name": "stdout",
          "output_type": "stream",
          "text": [
            "Confusion matrix for model: \n",
            "            predicted_stroke  predicted_no_stroke\n",
            "stroke                    6                   66\n",
            "no_stroke                34                 1367\n",
            "Classification report: \n",
            "               precision    recall  f1-score   support\n",
            "\n",
            "         0.0       0.95      0.98      0.96      1401\n",
            "         1.0       0.15      0.08      0.11        72\n",
            "\n",
            "    accuracy                           0.93      1473\n",
            "   macro avg       0.55      0.53      0.54      1473\n",
            "weighted avg       0.91      0.93      0.92      1473\n",
            "\n"
          ]
        },
        {
          "data": {
            "text/plain": [
              "0"
            ]
          },
          "execution_count": 169,
          "metadata": {},
          "output_type": "execute_result"
        }
      ],
      "source": [
        "#RANDOM FORREST\n",
        "# Import the model we are using\n",
        "from sklearn.ensemble import RandomForestClassifier\n",
        "rf = RandomForestClassifier(n_estimators = 3, criterion = 'entropy')\n",
        "rf.fit(X_train, Y_train)\n",
        "y_predict_forest = rf.predict(X_test)\n",
        "y_predict_forest = y_pred = [1 if i > 0.5 else 0 for i in y_predict_forest]\n",
        "confusion_mtrx(np.array(Y_test), np.array(y_predict_forest))"
      ]
    },
    {
      "cell_type": "code",
      "execution_count": 170,
      "metadata": {},
      "outputs": [
        {
          "name": "stdout",
          "output_type": "stream",
          "text": [
            "[15:40:37] WARNING: /Users/runner/miniforge3/conda-bld/xgboost-split_1637426408905/work/src/learner.cc:576: \n",
            "Parameters: { \"verbose\" } might not be used.\n",
            "\n",
            "  This could be a false alarm, with some parameters getting used by language bindings but\n",
            "  then being mistakenly passed down to XGBoost core, or some parameter actually being used\n",
            "  but getting flagged wrongly here. Please open an issue if you find any such cases.\n",
            "\n",
            "\n",
            "[15:40:38] WARNING: /Users/runner/miniforge3/conda-bld/xgboost-split_1637426408905/work/src/learner.cc:1115: Starting in XGBoost 1.3.0, the default evaluation metric used with the objective 'binary:logistic' was changed from 'error' to 'logloss'. Explicitly set eval_metric if you'd like to restore the old behavior.\n",
            "Confusion matrix for model: \n",
            "            predicted_stroke  predicted_no_stroke\n",
            "stroke                   41                   31\n",
            "no_stroke               155                 1246\n",
            "Classification report: \n",
            "               precision    recall  f1-score   support\n",
            "\n",
            "         0.0       0.98      0.89      0.93      1401\n",
            "         1.0       0.21      0.57      0.31        72\n",
            "\n",
            "    accuracy                           0.87      1473\n",
            "   macro avg       0.59      0.73      0.62      1473\n",
            "weighted avg       0.94      0.87      0.90      1473\n",
            "\n"
          ]
        },
        {
          "data": {
            "text/plain": [
              "0"
            ]
          },
          "execution_count": 170,
          "metadata": {},
          "output_type": "execute_result"
        }
      ],
      "source": [
        "#RANDOM FOREST WITH BOOSTING\n",
        "# Import the model we are using\n",
        "from xgboost import XGBRFClassifier\n",
        "rf = XGBRFClassifier(n_estimators=100, use_label_encoder=False, verbose = True)\n",
        "rf.fit(X_train, Y_train)\n",
        "y_predict_forest = rf.predict(X_test)\n",
        "y_predict_forest = [1 if i > 0.5 else 0 for i in y_predict_forest]\n",
        "\n",
        "confusion_mtrx(np.array(Y_test), np.array(y_predict_forest))"
      ]
    },
    {
      "cell_type": "code",
      "execution_count": 171,
      "metadata": {
        "id": "gvop7R_37fsb"
      },
      "outputs": [
        {
          "name": "stdout",
          "output_type": "stream",
          "text": [
            "Confusion matrix for model: \n",
            "            predicted_stroke  predicted_no_stroke\n",
            "stroke                   34                   38\n",
            "no_stroke               195                 1206\n",
            "Classification report: \n",
            "               precision    recall  f1-score   support\n",
            "\n",
            "         0.0       0.97      0.86      0.91      1401\n",
            "         1.0       0.15      0.47      0.23        72\n",
            "\n",
            "    accuracy                           0.84      1473\n",
            "   macro avg       0.56      0.67      0.57      1473\n",
            "weighted avg       0.93      0.84      0.88      1473\n",
            "\n"
          ]
        },
        {
          "data": {
            "text/plain": [
              "0"
            ]
          },
          "execution_count": 171,
          "metadata": {},
          "output_type": "execute_result"
        }
      ],
      "source": [
        "from sklearn.neighbors import KNeighborsClassifier\n",
        "\n",
        "knn = KNeighborsClassifier(n_neighbors=100) # tuned to 100\n",
        "knn.fit(X_train, Y_train)\n",
        "y_predict_knn = knn.predict(X_test)\n",
        "y_predict_knn = [1 if i > 0.5 else 0 for i in y_predict_knn]\n",
        "confusion_mtrx(np.array(Y_test), np.array(y_predict_knn))"
      ]
    },
    {
      "cell_type": "code",
      "execution_count": 197,
      "metadata": {},
      "outputs": [
        {
          "data": {
            "image/png": "[encoded data removed]",
            "text/plain": [
              "<Figure size 720x576 with 2 Axes>"
            ]
          },
          "metadata": {
            "needs_background": "light"
          },
          "output_type": "display_data"
        }
      ],
      "source": [
        "import seaborn as sns\n",
        "\n",
        "plt.figure(figsize=(10, 8))\n",
        "correlation_matrix = encoded_data.corr().round(2)\n",
        "sns.heatmap(data=correlation_matrix, annot=True, cmap='coolwarm', linewidths=0.5)\n",
        "plt.title(\"Correlation Matrix\", size=40)\n",
        "plt.show()\n"
      ]
    },
    {
      "cell_type": "code",
      "execution_count": 191,
      "metadata": {
        "colab": {
          "base_uri": "https://localhost:8080/",
          "height": 450
        },
        "id": "CtAVkJii30GC",
        "outputId": "88457ad9-11ae-40a0-c90f-2274e2279e02"
      },
      "outputs": [
        {
          "name": "stdout",
          "output_type": "stream",
          "text": [
            "Model: \"sequential_28\"\n",
            "_________________________________________________________________\n",
            " Layer (type)                Output Shape              Param #   \n",
            "=================================================================\n",
            " dense_159 (Dense)           (None, 32)                352       \n",
            "                                                                 \n",
            " dropout_125 (Dropout)       (None, 32)                0         \n",
            "                                                                 \n",
            " activation_154 (Activation)  (None, 32)               0         \n",
            "                                                                 \n",
            " dense_160 (Dense)           (None, 64)                2112      \n",
            "                                                                 \n",
            " dropout_126 (Dropout)       (None, 64)                0         \n",
            "                                                                 \n",
            " activation_155 (Activation)  (None, 64)               0         \n",
            "                                                                 \n",
            " dense_161 (Dense)           (None, 128)               8320      \n",
            "                                                                 \n",
            " dropout_127 (Dropout)       (None, 128)               0         \n",
            "                                                                 \n",
            " activation_156 (Activation)  (None, 128)              0         \n",
            "                                                                 \n",
            " dense_162 (Dense)           (None, 64)                8256      \n",
            "                                                                 \n",
            " dropout_128 (Dropout)       (None, 64)                0         \n",
            "                                                                 \n",
            " activation_157 (Activation)  (None, 64)               0         \n",
            "                                                                 \n",
            " dense_163 (Dense)           (None, 32)                2080      \n",
            "                                                                 \n",
            " dropout_129 (Dropout)       (None, 32)                0         \n",
            "                                                                 \n",
            " activation_158 (Activation)  (None, 32)               0         \n",
            "                                                                 \n",
            " dense_164 (Dense)           (None, 1)                 33        \n",
            "                                                                 \n",
            " activation_159 (Activation)  (None, 1)                0         \n",
            "                                                                 \n",
            "=================================================================\n",
            "Total params: 21,153\n",
            "Trainable params: 21,153\n",
            "Non-trainable params: 0\n",
            "_________________________________________________________________\n"
          ]
        }
      ],
      "source": [
        "#MODELS\n",
        "from sklearn.utils.class_weight import compute_class_weight\n",
        "import tensorflow_addons as tfa\n",
        "\n",
        "METRICS = [\n",
        "      keras.metrics.TruePositives(name='tp'),\n",
        "      keras.metrics.FalsePositives(name='fp'),\n",
        "      keras.metrics.TrueNegatives(name='tn'),\n",
        "      keras.metrics.FalseNegatives(name='fn'), \n",
        "      keras.metrics.BinaryAccuracy(name='accuracy'),\n",
        "      keras.metrics.Precision(name='precision'),\n",
        "      keras.metrics.Recall(name='recall'),\n",
        "      keras.metrics.AUC(name='auc'),\n",
        "      keras.metrics.AUC(name='prc', curve='PR'), # precision-recall curve,\n",
        "]\n",
        "\n",
        "def create_model2(idim = len(encoded_data.keys())-1):\n",
        "  model = Sequential()\n",
        "\n",
        "  model.add(Dense(32, input_dim=idim))\n",
        "  model.add(Dropout(.3))\n",
        "  model.add(Activation('gelu'))\n",
        "\n",
        "  model.add(Dense(64, input_dim=32))\n",
        "  model.add(Dropout(.3))\n",
        "  model.add(Activation('gelu'))\n",
        "\n",
        "  model.add(Dense(128, input_dim=64))\n",
        "  model.add(Dropout(.5))\n",
        "  model.add(Activation('gelu'))\n",
        "\n",
        "\n",
        "  model.add(Dense(64, input_dim=128))\n",
        "  model.add(Dropout(.3))\n",
        "  model.add(Activation('gelu'))\n",
        "  \n",
        "  model.add(Dense(32, input_dim=64))\n",
        "  model.add(Dropout(.1))\n",
        "  model.add(Activation('gelu'))\n",
        "\n",
        "  model.add(Dense(1, input_dim=64))\n",
        "  model.add(Activation('sigmoid'))\n",
        "\n",
        "  optimizer = tf.keras.optimizers.SGD(\n",
        "    learning_rate=1e-3, nesterov=False,\n",
        "  )\n",
        "  #tfa.losses.SigmoidFocalCrossEntropy()\n",
        "  model.compile(optimizer = optimizer, loss= tf.keras.losses.BinaryCrossentropy(),  metrics=METRICS)\n",
        "  return model\n",
        "\n",
        "\n",
        "def create_model(idim = len(encoded_data.keys())-1):\n",
        "  model = Sequential()\n",
        "  initializer = tf.keras.initializers.HeNormal()\n",
        "  model.add(Dense(idim, input_dim=idim, kernel_initializer=initializer))\n",
        "  model.add(Activation('relu'))\n",
        "  model.add(Dense(32, kernel_initializer=initializer))\n",
        "  model.add(Activation('relu'))\n",
        "  model.add(Dense(64,  kernel_initializer=initializer))\n",
        "  model.add(Activation('relu'))\n",
        "  model.add(Dense(32, kernel_initializer=initializer))\n",
        "  model.add(Activation('relu'))\n",
        "  model.add(Dense(1, kernel_initializer=initializer))\n",
        "  model.add(Activation('sigmoid'))\n",
        "  # optimizer = tf.keras.optimizers.SGD(name=\"SGD\")\n",
        "\n",
        "  model.compile(optimizer = 'sgd', loss=tf.keras.losses.BinaryCrossentropy(),  metrics=METRICS)\n",
        "  return model\n",
        "\n",
        "class_weight = compute_class_weight(class_weight = 'balanced', classes = [0,1], y = np.array(df.stroke))\n",
        "# class_weight = {0: class_weight[0],\n",
        "#                 1: class_weight[1]}\n",
        "model = create_model2()\n",
        "model.summary()"
      ]
    },
    {
      "cell_type": "code",
      "execution_count": 192,
      "metadata": {},
      "outputs": [
        {
          "name": "stdout",
          "output_type": "stream",
          "text": [
            "Epoch 1/50\n",
            "672/687 [============================>.] - ETA: 0s - loss: 0.6840 - tp: 342.0000 - fp: 539.0000 - tn: 2699.0000 - fn: 1796.0000 - accuracy: 0.5657 - precision: 0.3882 - recall: 0.1600 - auc: 0.5316 - prc: 0.4029\n",
            "Epoch 00001: val_loss improved from inf to 0.62179, saving model to ./ckpts/best_val_loss.hdf5\n",
            "687/687 [==============================] - 6s 4ms/step - loss: 0.6840 - tp: 344.0000 - fp: 542.0000 - tn: 2757.0000 - fn: 1848.0000 - accuracy: 0.5647 - precision: 0.3883 - recall: 0.1569 - auc: 0.5306 - prc: 0.4038 - val_loss: 0.6218 - val_tp: 0.0000e+00 - val_fp: 0.0000e+00 - val_tn: 1401.0000 - val_fn: 72.0000 - val_accuracy: 0.9511 - val_precision: 0.0000e+00 - val_recall: 0.0000e+00 - val_auc: 0.5981 - val_prc: 0.0888 - lr: 0.0010\n",
            "Epoch 2/50\n",
            "675/687 [============================>.] - ETA: 0s - loss: 0.6747 - tp: 25.0000 - fp: 93.0000 - tn: 3150.0000 - fn: 2132.0000 - accuracy: 0.5880 - precision: 0.2119 - recall: 0.0116 - auc: 0.5400 - prc: 0.4079\n",
            "Epoch 00002: val_loss improved from 0.62179 to 0.58648, saving model to ./ckpts/best_val_loss.hdf5\n",
            "687/687 [==============================] - 2s 2ms/step - loss: 0.6745 - tp: 26.0000 - fp: 93.0000 - tn: 3206.0000 - fn: 2166.0000 - accuracy: 0.5886 - precision: 0.2185 - recall: 0.0119 - auc: 0.5410 - prc: 0.4086 - val_loss: 0.5865 - val_tp: 0.0000e+00 - val_fp: 0.0000e+00 - val_tn: 1401.0000 - val_fn: 72.0000 - val_accuracy: 0.9511 - val_precision: 0.0000e+00 - val_recall: 0.0000e+00 - val_auc: 0.6147 - val_prc: 0.1045 - lr: 0.0010\n",
            "Epoch 3/50\n",
            "670/687 [============================>.] - ETA: 0s - loss: 0.6695 - tp: 11.0000 - fp: 38.0000 - tn: 3187.0000 - fn: 2124.0000 - accuracy: 0.5966 - precision: 0.2245 - recall: 0.0052 - auc: 0.5562 - prc: 0.4261\n",
            "Epoch 00003: val_loss improved from 0.58648 to 0.56494, saving model to ./ckpts/best_val_loss.hdf5\n",
            "687/687 [==============================] - 2s 3ms/step - loss: 0.6700 - tp: 11.0000 - fp: 38.0000 - tn: 3261.0000 - fn: 2181.0000 - accuracy: 0.5959 - precision: 0.2245 - recall: 0.0050 - auc: 0.5545 - prc: 0.4264 - val_loss: 0.5649 - val_tp: 0.0000e+00 - val_fp: 0.0000e+00 - val_tn: 1401.0000 - val_fn: 72.0000 - val_accuracy: 0.9511 - val_precision: 0.0000e+00 - val_recall: 0.0000e+00 - val_auc: 0.6273 - val_prc: 0.1191 - lr: 0.0010\n",
            "Epoch 4/50\n",
            "671/687 [============================>.] - ETA: 0s - loss: 0.6650 - tp: 5.0000 - fp: 13.0000 - tn: 3205.0000 - fn: 2145.0000 - accuracy: 0.5980 - precision: 0.2778 - recall: 0.0023 - auc: 0.5820 - prc: 0.4515\n",
            "Epoch 00004: val_loss improved from 0.56494 to 0.54909, saving model to ./ckpts/best_val_loss.hdf5\n",
            "687/687 [==============================] - 2s 3ms/step - loss: 0.6643 - tp: 5.0000 - fp: 13.0000 - tn: 3286.0000 - fn: 2187.0000 - accuracy: 0.5993 - precision: 0.2778 - recall: 0.0023 - auc: 0.5835 - prc: 0.4521 - val_loss: 0.5491 - val_tp: 0.0000e+00 - val_fp: 0.0000e+00 - val_tn: 1401.0000 - val_fn: 72.0000 - val_accuracy: 0.9511 - val_precision: 0.0000e+00 - val_recall: 0.0000e+00 - val_auc: 0.6330 - val_prc: 0.1020 - lr: 0.0010\n",
            "Epoch 5/50\n",
            "682/687 [============================>.] - ETA: 0s - loss: 0.6614 - tp: 4.0000 - fp: 9.0000 - tn: 3268.0000 - fn: 2175.0000 - accuracy: 0.5997 - precision: 0.3077 - recall: 0.0018 - auc: 0.5892 - prc: 0.4542\n",
            "Epoch 00005: val_loss improved from 0.54909 to 0.53851, saving model to ./ckpts/best_val_loss.hdf5\n",
            "687/687 [==============================] - 2s 3ms/step - loss: 0.6614 - tp: 4.0000 - fp: 9.0000 - tn: 3290.0000 - fn: 2188.0000 - accuracy: 0.5999 - precision: 0.3077 - recall: 0.0018 - auc: 0.5890 - prc: 0.4539 - val_loss: 0.5385 - val_tp: 0.0000e+00 - val_fp: 0.0000e+00 - val_tn: 1401.0000 - val_fn: 72.0000 - val_accuracy: 0.9511 - val_precision: 0.0000e+00 - val_recall: 0.0000e+00 - val_auc: 0.6402 - val_prc: 0.1156 - lr: 0.0010\n",
            "Epoch 6/50\n",
            "665/687 [============================>.] - ETA: 0s - loss: 0.6595 - tp: 0.0000e+00 - fp: 5.0000 - tn: 3196.0000 - fn: 2119.0000 - accuracy: 0.6008 - precision: 0.0000e+00 - recall: 0.0000e+00 - auc: 0.5944 - prc: 0.4625\n",
            "Epoch 00006: val_loss improved from 0.53851 to 0.53274, saving model to ./ckpts/best_val_loss.hdf5\n",
            "687/687 [==============================] - 2s 3ms/step - loss: 0.6598 - tp: 0.0000e+00 - fp: 5.0000 - tn: 3294.0000 - fn: 2192.0000 - accuracy: 0.5999 - precision: 0.0000e+00 - recall: 0.0000e+00 - auc: 0.5944 - prc: 0.4635 - val_loss: 0.5327 - val_tp: 0.0000e+00 - val_fp: 0.0000e+00 - val_tn: 1401.0000 - val_fn: 72.0000 - val_accuracy: 0.9511 - val_precision: 0.0000e+00 - val_recall: 0.0000e+00 - val_auc: 0.6502 - val_prc: 0.1240 - lr: 0.0010\n",
            "Epoch 7/50\n",
            "676/687 [============================>.] - ETA: 0s - loss: 0.6569 - tp: 0.0000e+00 - fp: 7.0000 - tn: 3241.0000 - fn: 2160.0000 - accuracy: 0.5993 - precision: 0.0000e+00 - recall: 0.0000e+00 - auc: 0.6076 - prc: 0.4755\n",
            "Epoch 00007: val_loss improved from 0.53274 to 0.52819, saving model to ./ckpts/best_val_loss.hdf5\n",
            "687/687 [==============================] - 2s 4ms/step - loss: 0.6568 - tp: 0.0000e+00 - fp: 7.0000 - tn: 3292.0000 - fn: 2192.0000 - accuracy: 0.5995 - precision: 0.0000e+00 - recall: 0.0000e+00 - auc: 0.6090 - prc: 0.4777 - val_loss: 0.5282 - val_tp: 0.0000e+00 - val_fp: 0.0000e+00 - val_tn: 1401.0000 - val_fn: 72.0000 - val_accuracy: 0.9511 - val_precision: 0.0000e+00 - val_recall: 0.0000e+00 - val_auc: 0.6538 - val_prc: 0.1280 - lr: 0.0010\n",
            "Epoch 8/50\n",
            "666/687 [============================>.] - ETA: 0s - loss: 0.6557 - tp: 0.0000e+00 - fp: 5.0000 - tn: 3204.0000 - fn: 2119.0000 - accuracy: 0.6014 - precision: 0.0000e+00 - recall: 0.0000e+00 - auc: 0.6160 - prc: 0.4840\n",
            "Epoch 00008: val_loss improved from 0.52819 to 0.52710, saving model to ./ckpts/best_val_loss.hdf5\n",
            "687/687 [==============================] - 2s 2ms/step - loss: 0.6566 - tp: 0.0000e+00 - fp: 5.0000 - tn: 3294.0000 - fn: 2192.0000 - accuracy: 0.5999 - precision: 0.0000e+00 - recall: 0.0000e+00 - auc: 0.6171 - prc: 0.4876 - val_loss: 0.5271 - val_tp: 0.0000e+00 - val_fp: 0.0000e+00 - val_tn: 1401.0000 - val_fn: 72.0000 - val_accuracy: 0.9511 - val_precision: 0.0000e+00 - val_recall: 0.0000e+00 - val_auc: 0.6655 - val_prc: 0.1091 - lr: 0.0010\n",
            "Epoch 9/50\n",
            "660/687 [===========================>..] - ETA: 0s - loss: 0.6534 - tp: 3.0000 - fp: 2.0000 - tn: 3176.0000 - fn: 2099.0000 - accuracy: 0.6021 - precision: 0.6000 - recall: 0.0014 - auc: 0.6169 - prc: 0.4963\n",
            "Epoch 00009: val_loss improved from 0.52710 to 0.52664, saving model to ./ckpts/best_val_loss.hdf5\n",
            "687/687 [==============================] - 2s 2ms/step - loss: 0.6535 - tp: 3.0000 - fp: 2.0000 - tn: 3297.0000 - fn: 2189.0000 - accuracy: 0.6010 - precision: 0.6000 - recall: 0.0014 - auc: 0.6187 - prc: 0.4987 - val_loss: 0.5266 - val_tp: 0.0000e+00 - val_fp: 0.0000e+00 - val_tn: 1401.0000 - val_fn: 72.0000 - val_accuracy: 0.9511 - val_precision: 0.0000e+00 - val_recall: 0.0000e+00 - val_auc: 0.6736 - val_prc: 0.1187 - lr: 0.0010\n",
            "Epoch 10/50\n",
            "686/687 [============================>.] - ETA: 0s - loss: 0.6479 - tp: 7.0000 - fp: 4.0000 - tn: 3293.0000 - fn: 2184.0000 - accuracy: 0.6013 - precision: 0.6364 - recall: 0.0032 - auc: 0.6402 - prc: 0.5135\n",
            "Epoch 00010: val_loss improved from 0.52664 to 0.52321, saving model to ./ckpts/best_val_loss.hdf5\n",
            "687/687 [==============================] - 2s 2ms/step - loss: 0.6479 - tp: 7.0000 - fp: 4.0000 - tn: 3295.0000 - fn: 2185.0000 - accuracy: 0.6013 - precision: 0.6364 - recall: 0.0032 - auc: 0.6402 - prc: 0.5132 - val_loss: 0.5232 - val_tp: 0.0000e+00 - val_fp: 0.0000e+00 - val_tn: 1401.0000 - val_fn: 72.0000 - val_accuracy: 0.9511 - val_precision: 0.0000e+00 - val_recall: 0.0000e+00 - val_auc: 0.6761 - val_prc: 0.1237 - lr: 0.0010\n",
            "Epoch 11/50\n",
            "666/687 [============================>.] - ETA: 0s - loss: 0.6467 - tp: 5.0000 - fp: 3.0000 - tn: 3196.0000 - fn: 2124.0000 - accuracy: 0.6008 - precision: 0.6250 - recall: 0.0023 - auc: 0.6341 - prc: 0.5071  \n",
            "Epoch 00011: val_loss improved from 0.52321 to 0.52107, saving model to ./ckpts/best_val_loss.hdf5\n",
            "687/687 [==============================] - 1s 2ms/step - loss: 0.6465 - tp: 6.0000 - fp: 3.0000 - tn: 3296.0000 - fn: 2186.0000 - accuracy: 0.6013 - precision: 0.6667 - recall: 0.0027 - auc: 0.6353 - prc: 0.5086 - val_loss: 0.5211 - val_tp: 0.0000e+00 - val_fp: 0.0000e+00 - val_tn: 1401.0000 - val_fn: 72.0000 - val_accuracy: 0.9511 - val_precision: 0.0000e+00 - val_recall: 0.0000e+00 - val_auc: 0.6855 - val_prc: 0.1257 - lr: 0.0010\n",
            "Epoch 12/50\n",
            "676/687 [============================>.] - ETA: 0s - loss: 0.6421 - tp: 7.0000 - fp: 5.0000 - tn: 3241.0000 - fn: 2155.0000 - accuracy: 0.6006 - precision: 0.5833 - recall: 0.0032 - auc: 0.6466 - prc: 0.5151\n",
            "Epoch 00012: val_loss improved from 0.52107 to 0.51997, saving model to ./ckpts/best_val_loss.hdf5\n",
            "687/687 [==============================] - 2s 3ms/step - loss: 0.6414 - tp: 7.0000 - fp: 5.0000 - tn: 3294.0000 - fn: 2185.0000 - accuracy: 0.6012 - precision: 0.5833 - recall: 0.0032 - auc: 0.6484 - prc: 0.5167 - val_loss: 0.5200 - val_tp: 0.0000e+00 - val_fp: 0.0000e+00 - val_tn: 1401.0000 - val_fn: 72.0000 - val_accuracy: 0.9511 - val_precision: 0.0000e+00 - val_recall: 0.0000e+00 - val_auc: 0.6911 - val_prc: 0.1242 - lr: 0.0010\n",
            "Epoch 13/50\n",
            "677/687 [============================>.] - ETA: 0s - loss: 0.6402 - tp: 9.0000 - fp: 8.0000 - tn: 3242.0000 - fn: 2157.0000 - accuracy: 0.6003 - precision: 0.5294 - recall: 0.0042 - auc: 0.6602 - prc: 0.5385\n",
            "Epoch 00013: val_loss improved from 0.51997 to 0.51775, saving model to ./ckpts/best_val_loss.hdf5\n",
            "687/687 [==============================] - 2s 2ms/step - loss: 0.6400 - tp: 10.0000 - fp: 8.0000 - tn: 3291.0000 - fn: 2182.0000 - accuracy: 0.6012 - precision: 0.5556 - recall: 0.0046 - auc: 0.6605 - prc: 0.5394 - val_loss: 0.5178 - val_tp: 0.0000e+00 - val_fp: 0.0000e+00 - val_tn: 1401.0000 - val_fn: 72.0000 - val_accuracy: 0.9511 - val_precision: 0.0000e+00 - val_recall: 0.0000e+00 - val_auc: 0.6988 - val_prc: 0.1162 - lr: 0.0010\n",
            "Epoch 14/50\n",
            "671/687 [============================>.] - ETA: 0s - loss: 0.6341 - tp: 13.0000 - fp: 10.0000 - tn: 3207.0000 - fn: 2138.0000 - accuracy: 0.5999 - precision: 0.5652 - recall: 0.0060 - auc: 0.6720 - prc: 0.5484\n",
            "Epoch 00014: val_loss improved from 0.51775 to 0.51747, saving model to ./ckpts/best_val_loss.hdf5\n",
            "687/687 [==============================] - 2s 2ms/step - loss: 0.6337 - tp: 13.0000 - fp: 10.0000 - tn: 3289.0000 - fn: 2179.0000 - accuracy: 0.6013 - precision: 0.5652 - recall: 0.0059 - auc: 0.6708 - prc: 0.5443 - val_loss: 0.5175 - val_tp: 0.0000e+00 - val_fp: 0.0000e+00 - val_tn: 1401.0000 - val_fn: 72.0000 - val_accuracy: 0.9511 - val_precision: 0.0000e+00 - val_recall: 0.0000e+00 - val_auc: 0.7026 - val_prc: 0.1143 - lr: 0.0010\n",
            "Epoch 15/50\n",
            "683/687 [============================>.] - ETA: 0s - loss: 0.6336 - tp: 23.0000 - fp: 12.0000 - tn: 3267.0000 - fn: 2162.0000 - accuracy: 0.6021 - precision: 0.6571 - recall: 0.0105 - auc: 0.6742 - prc: 0.5437\n",
            "Epoch 00015: val_loss improved from 0.51747 to 0.51546, saving model to ./ckpts/best_val_loss.hdf5\n",
            "687/687 [==============================] - 2s 2ms/step - loss: 0.6335 - tp: 23.0000 - fp: 12.0000 - tn: 3287.0000 - fn: 2169.0000 - accuracy: 0.6028 - precision: 0.6571 - recall: 0.0105 - auc: 0.6734 - prc: 0.5426 - val_loss: 0.5155 - val_tp: 0.0000e+00 - val_fp: 0.0000e+00 - val_tn: 1401.0000 - val_fn: 72.0000 - val_accuracy: 0.9511 - val_precision: 0.0000e+00 - val_recall: 0.0000e+00 - val_auc: 0.7104 - val_prc: 0.1176 - lr: 0.0010\n",
            "Epoch 16/50\n",
            "668/687 [============================>.] - ETA: 0s - loss: 0.6338 - tp: 41.0000 - fp: 26.0000 - tn: 3177.0000 - fn: 2100.0000 - accuracy: 0.6022 - precision: 0.6119 - recall: 0.0191 - auc: 0.6773 - prc: 0.5490\n",
            "Epoch 00016: val_loss did not improve from 0.51546\n",
            "687/687 [==============================] - 1s 2ms/step - loss: 0.6326 - tp: 43.0000 - fp: 28.0000 - tn: 3271.0000 - fn: 2149.0000 - accuracy: 0.6035 - precision: 0.6056 - recall: 0.0196 - auc: 0.6778 - prc: 0.5460 - val_loss: 0.5172 - val_tp: 0.0000e+00 - val_fp: 0.0000e+00 - val_tn: 1401.0000 - val_fn: 72.0000 - val_accuracy: 0.9511 - val_precision: 0.0000e+00 - val_recall: 0.0000e+00 - val_auc: 0.7159 - val_prc: 0.1137 - lr: 0.0010\n",
            "Epoch 17/50\n",
            "666/687 [============================>.] - ETA: 0s - loss: 0.6320 - tp: 78.0000 - fp: 33.0000 - tn: 3154.0000 - fn: 2063.0000 - accuracy: 0.6066 - precision: 0.7027 - recall: 0.0364 - auc: 0.6748 - prc: 0.5564\n",
            "Epoch 00017: val_loss did not improve from 0.51546\n",
            "687/687 [==============================] - 1s 2ms/step - loss: 0.6306 - tp: 80.0000 - fp: 36.0000 - tn: 3263.0000 - fn: 2112.0000 - accuracy: 0.6088 - precision: 0.6897 - recall: 0.0365 - auc: 0.6738 - prc: 0.5497 - val_loss: 0.5184 - val_tp: 0.0000e+00 - val_fp: 3.0000 - val_tn: 1398.0000 - val_fn: 72.0000 - val_accuracy: 0.9491 - val_precision: 0.0000e+00 - val_recall: 0.0000e+00 - val_auc: 0.7238 - val_prc: 0.1156 - lr: 0.0010\n",
            "Epoch 18/50\n",
            "668/687 [============================>.] - ETA: 0s - loss: 0.6278 - tp: 147.0000 - fp: 54.0000 - tn: 3149.0000 - fn: 1994.0000 - accuracy: 0.6168 - precision: 0.7313 - recall: 0.0687 - auc: 0.6849 - prc: 0.5676\n",
            "Epoch 00018: val_loss did not improve from 0.51546\n",
            "687/687 [==============================] - 1s 2ms/step - loss: 0.6285 - tp: 150.0000 - fp: 60.0000 - tn: 3239.0000 - fn: 2042.0000 - accuracy: 0.6172 - precision: 0.7143 - recall: 0.0684 - auc: 0.6827 - prc: 0.5631 - val_loss: 0.5197 - val_tp: 2.0000 - val_fp: 7.0000 - val_tn: 1394.0000 - val_fn: 70.0000 - val_accuracy: 0.9477 - val_precision: 0.2222 - val_recall: 0.0278 - val_auc: 0.7305 - val_prc: 0.1192 - lr: 0.0010\n",
            "Epoch 19/50\n",
            "672/687 [============================>.] - ETA: 0s - loss: 0.6224 - tp: 154.0000 - fp: 90.0000 - tn: 3143.0000 - fn: 1989.0000 - accuracy: 0.6133 - precision: 0.6311 - recall: 0.0719 - auc: 0.6974 - prc: 0.5608\n",
            "Epoch 00019: val_loss improved from 0.51546 to 0.51256, saving model to ./ckpts/best_val_loss.hdf5\n",
            "687/687 [==============================] - 1s 2ms/step - loss: 0.6220 - tp: 159.0000 - fp: 91.0000 - tn: 3208.0000 - fn: 2033.0000 - accuracy: 0.6132 - precision: 0.6360 - recall: 0.0725 - auc: 0.6985 - prc: 0.5635 - val_loss: 0.5126 - val_tp: 2.0000 - val_fp: 13.0000 - val_tn: 1388.0000 - val_fn: 70.0000 - val_accuracy: 0.9437 - val_precision: 0.1333 - val_recall: 0.0278 - val_auc: 0.7317 - val_prc: 0.1204 - lr: 0.0010\n",
            "Epoch 20/50\n",
            "670/687 [============================>.] - ETA: 0s - loss: 0.6197 - tp: 201.0000 - fp: 112.0000 - tn: 3113.0000 - fn: 1934.0000 - accuracy: 0.6183 - precision: 0.6422 - recall: 0.0941 - auc: 0.7010 - prc: 0.5687\n",
            "Epoch 00020: val_loss did not improve from 0.51256\n",
            "687/687 [==============================] - 1s 2ms/step - loss: 0.6218 - tp: 208.0000 - fp: 114.0000 - tn: 3185.0000 - fn: 1984.0000 - accuracy: 0.6179 - precision: 0.6460 - recall: 0.0949 - auc: 0.6993 - prc: 0.5701 - val_loss: 0.5147 - val_tp: 4.0000 - val_fp: 23.0000 - val_tn: 1378.0000 - val_fn: 68.0000 - val_accuracy: 0.9382 - val_precision: 0.1481 - val_recall: 0.0556 - val_auc: 0.7390 - val_prc: 0.1236 - lr: 0.0010\n",
            "Epoch 21/50\n",
            "667/687 [============================>.] - ETA: 0s - loss: 0.6171 - tp: 309.0000 - fp: 152.0000 - tn: 3053.0000 - fn: 1822.0000 - accuracy: 0.6301 - precision: 0.6703 - recall: 0.1450 - auc: 0.7095 - prc: 0.5876\n",
            "Epoch 00021: val_loss improved from 0.51256 to 0.51034, saving model to ./ckpts/best_val_loss.hdf5\n",
            "687/687 [==============================] - 1s 2ms/step - loss: 0.6170 - tp: 312.0000 - fp: 160.0000 - tn: 3139.0000 - fn: 1880.0000 - accuracy: 0.6285 - precision: 0.6610 - recall: 0.1423 - auc: 0.7083 - prc: 0.5846 - val_loss: 0.5103 - val_tp: 8.0000 - val_fp: 35.0000 - val_tn: 1366.0000 - val_fn: 64.0000 - val_accuracy: 0.9328 - val_precision: 0.1860 - val_recall: 0.1111 - val_auc: 0.7412 - val_prc: 0.1207 - lr: 0.0010\n",
            "Epoch 22/50\n",
            "677/687 [============================>.] - ETA: 0s - loss: 0.6159 - tp: 370.0000 - fp: 202.0000 - tn: 3051.0000 - fn: 1793.0000 - accuracy: 0.6316 - precision: 0.6469 - recall: 0.1711 - auc: 0.7077 - prc: 0.5803\n",
            "Epoch 00022: val_loss improved from 0.51034 to 0.50795, saving model to ./ckpts/best_val_loss.hdf5\n",
            "687/687 [==============================] - 3s 4ms/step - loss: 0.6153 - tp: 374.0000 - fp: 203.0000 - tn: 3096.0000 - fn: 1818.0000 - accuracy: 0.6319 - precision: 0.6482 - recall: 0.1706 - auc: 0.7084 - prc: 0.5809 - val_loss: 0.5079 - val_tp: 15.0000 - val_fp: 60.0000 - val_tn: 1341.0000 - val_fn: 57.0000 - val_accuracy: 0.9206 - val_precision: 0.2000 - val_recall: 0.2083 - val_auc: 0.7474 - val_prc: 0.1238 - lr: 0.0010\n",
            "Epoch 23/50\n",
            "684/687 [============================>.] - ETA: 0s - loss: 0.6102 - tp: 476.0000 - fp: 253.0000 - tn: 3033.0000 - fn: 1710.0000 - accuracy: 0.6413 - precision: 0.6529 - recall: 0.2177 - auc: 0.7178 - prc: 0.5914\n",
            "Epoch 00023: val_loss improved from 0.50795 to 0.50076, saving model to ./ckpts/best_val_loss.hdf5\n",
            "687/687 [==============================] - 2s 3ms/step - loss: 0.6099 - tp: 478.0000 - fp: 254.0000 - tn: 3045.0000 - fn: 1714.0000 - accuracy: 0.6416 - precision: 0.6530 - recall: 0.2181 - auc: 0.7178 - prc: 0.5911 - val_loss: 0.5008 - val_tp: 18.0000 - val_fp: 77.0000 - val_tn: 1324.0000 - val_fn: 54.0000 - val_accuracy: 0.9111 - val_precision: 0.1895 - val_recall: 0.2500 - val_auc: 0.7486 - val_prc: 0.1257 - lr: 0.0010\n",
            "Epoch 24/50\n",
            "672/687 [============================>.] - ETA: 0s - loss: 0.6160 - tp: 568.0000 - fp: 304.0000 - tn: 2920.0000 - fn: 1584.0000 - accuracy: 0.6488 - precision: 0.6514 - recall: 0.2639 - auc: 0.7142 - prc: 0.5881\n",
            "Epoch 00024: val_loss did not improve from 0.50076\n",
            "687/687 [==============================] - 2s 2ms/step - loss: 0.6150 - tp: 583.0000 - fp: 308.0000 - tn: 2991.0000 - fn: 1609.0000 - accuracy: 0.6509 - precision: 0.6543 - recall: 0.2660 - auc: 0.7154 - prc: 0.5901 - val_loss: 0.5080 - val_tp: 22.0000 - val_fp: 112.0000 - val_tn: 1289.0000 - val_fn: 50.0000 - val_accuracy: 0.8900 - val_precision: 0.1642 - val_recall: 0.3056 - val_auc: 0.7546 - val_prc: 0.1274 - lr: 0.0010\n",
            "Epoch 25/50\n",
            "679/687 [============================>.] - ETA: 0s - loss: 0.6082 - tp: 590.0000 - fp: 336.0000 - tn: 2928.0000 - fn: 1578.0000 - accuracy: 0.6476 - precision: 0.6371 - recall: 0.2721 - auc: 0.7176 - prc: 0.5891\n",
            "Epoch 00025: val_loss did not improve from 0.50076\n",
            "687/687 [==============================] - 2s 3ms/step - loss: 0.6082 - tp: 601.0000 - fp: 342.0000 - tn: 2957.0000 - fn: 1591.0000 - accuracy: 0.6480 - precision: 0.6373 - recall: 0.2742 - auc: 0.7178 - prc: 0.5886 - val_loss: 0.5065 - val_tp: 24.0000 - val_fp: 125.0000 - val_tn: 1276.0000 - val_fn: 48.0000 - val_accuracy: 0.8826 - val_precision: 0.1611 - val_recall: 0.3333 - val_auc: 0.7565 - val_prc: 0.1288 - lr: 0.0010\n",
            "Epoch 26/50\n",
            "683/687 [============================>.] - ETA: 0s - loss: 0.6023 - tp: 710.0000 - fp: 382.0000 - tn: 2896.0000 - fn: 1476.0000 - accuracy: 0.6600 - precision: 0.6502 - recall: 0.3248 - auc: 0.7292 - prc: 0.5994\n",
            "Epoch 00026: val_loss improved from 0.50076 to 0.50044, saving model to ./ckpts/best_val_loss.hdf5\n",
            "687/687 [==============================] - 2s 3ms/step - loss: 0.6020 - tp: 712.0000 - fp: 384.0000 - tn: 2915.0000 - fn: 1480.0000 - accuracy: 0.6605 - precision: 0.6496 - recall: 0.3248 - auc: 0.7293 - prc: 0.5991 - val_loss: 0.5004 - val_tp: 24.0000 - val_fp: 139.0000 - val_tn: 1262.0000 - val_fn: 48.0000 - val_accuracy: 0.8730 - val_precision: 0.1472 - val_recall: 0.3333 - val_auc: 0.7608 - val_prc: 0.1306 - lr: 0.0010\n",
            "Epoch 27/50\n",
            "674/687 [============================>.] - ETA: 0s - loss: 0.6048 - tp: 751.0000 - fp: 415.0000 - tn: 2821.0000 - fn: 1405.0000 - accuracy: 0.6625 - precision: 0.6441 - recall: 0.3483 - auc: 0.7282 - prc: 0.6018\n",
            "Epoch 00027: val_loss did not improve from 0.50044\n",
            "687/687 [==============================] - 2s 2ms/step - loss: 0.6044 - tp: 769.0000 - fp: 420.0000 - tn: 2879.0000 - fn: 1423.0000 - accuracy: 0.6644 - precision: 0.6468 - recall: 0.3508 - auc: 0.7292 - prc: 0.6030 - val_loss: 0.5040 - val_tp: 31.0000 - val_fp: 168.0000 - val_tn: 1233.0000 - val_fn: 41.0000 - val_accuracy: 0.8581 - val_precision: 0.1558 - val_recall: 0.4306 - val_auc: 0.7636 - val_prc: 0.1308 - lr: 0.0010\n",
            "Epoch 28/50\n",
            "686/687 [============================>.] - ETA: 0s - loss: 0.6008 - tp: 862.0000 - fp: 496.0000 - tn: 2801.0000 - fn: 1329.0000 - accuracy: 0.6675 - precision: 0.6348 - recall: 0.3934 - auc: 0.7314 - prc: 0.5949\n",
            "Epoch 00028: val_loss improved from 0.50044 to 0.49992, saving model to ./ckpts/best_val_loss.hdf5\n",
            "687/687 [==============================] - 2s 2ms/step - loss: 0.6007 - tp: 862.0000 - fp: 496.0000 - tn: 2803.0000 - fn: 1330.0000 - accuracy: 0.6675 - precision: 0.6348 - recall: 0.3932 - auc: 0.7315 - prc: 0.5949 - val_loss: 0.4999 - val_tp: 33.0000 - val_fp: 181.0000 - val_tn: 1220.0000 - val_fn: 39.0000 - val_accuracy: 0.8506 - val_precision: 0.1542 - val_recall: 0.4583 - val_auc: 0.7666 - val_prc: 0.1333 - lr: 0.0010\n",
            "Epoch 29/50\n",
            "662/687 [===========================>..] - ETA: 0s - loss: 0.5935 - tp: 890.0000 - fp: 461.0000 - tn: 2721.0000 - fn: 1224.0000 - accuracy: 0.6818 - precision: 0.6588 - recall: 0.4210 - auc: 0.7475 - prc: 0.6265\n",
            "Epoch 00029: val_loss improved from 0.49992 to 0.49389, saving model to ./ckpts/best_val_loss.hdf5\n",
            "687/687 [==============================] - 2s 2ms/step - loss: 0.5934 - tp: 922.0000 - fp: 479.0000 - tn: 2820.0000 - fn: 1270.0000 - accuracy: 0.6815 - precision: 0.6581 - recall: 0.4206 - auc: 0.7465 - prc: 0.6258 - val_loss: 0.4939 - val_tp: 34.0000 - val_fp: 187.0000 - val_tn: 1214.0000 - val_fn: 38.0000 - val_accuracy: 0.8473 - val_precision: 0.1538 - val_recall: 0.4722 - val_auc: 0.7673 - val_prc: 0.1342 - lr: 0.0010\n",
            "Epoch 30/50\n",
            "677/687 [============================>.] - ETA: 0s - loss: 0.5877 - tp: 921.0000 - fp: 527.0000 - tn: 2737.0000 - fn: 1231.0000 - accuracy: 0.6754 - precision: 0.6360 - recall: 0.4280 - auc: 0.7429 - prc: 0.6203\n",
            "Epoch 00030: val_loss improved from 0.49389 to 0.49183, saving model to ./ckpts/best_val_loss.hdf5\n",
            "687/687 [==============================] - 2s 2ms/step - loss: 0.5881 - tp: 943.0000 - fp: 532.0000 - tn: 2767.0000 - fn: 1249.0000 - accuracy: 0.6757 - precision: 0.6393 - recall: 0.4302 - auc: 0.7437 - prc: 0.6229 - val_loss: 0.4918 - val_tp: 34.0000 - val_fp: 208.0000 - val_tn: 1193.0000 - val_fn: 38.0000 - val_accuracy: 0.8330 - val_precision: 0.1405 - val_recall: 0.4722 - val_auc: 0.7697 - val_prc: 0.1344 - lr: 0.0010\n",
            "Epoch 31/50\n",
            "686/687 [============================>.] - ETA: 0s - loss: 0.5931 - tp: 1027.0000 - fp: 557.0000 - tn: 2740.0000 - fn: 1164.0000 - accuracy: 0.6864 - precision: 0.6484 - recall: 0.4687 - auc: 0.7484 - prc: 0.6283\n",
            "Epoch 00031: val_loss did not improve from 0.49183\n",
            "687/687 [==============================] - 2s 3ms/step - loss: 0.5932 - tp: 1027.0000 - fp: 558.0000 - tn: 2741.0000 - fn: 1165.0000 - accuracy: 0.6862 - precision: 0.6479 - recall: 0.4685 - auc: 0.7481 - prc: 0.6279 - val_loss: 0.4992 - val_tp: 38.0000 - val_fp: 233.0000 - val_tn: 1168.0000 - val_fn: 34.0000 - val_accuracy: 0.8187 - val_precision: 0.1402 - val_recall: 0.5278 - val_auc: 0.7746 - val_prc: 0.1363 - lr: 0.0010\n",
            "Epoch 32/50\n",
            "683/687 [============================>.] - ETA: 0s - loss: 0.5846 - tp: 1067.0000 - fp: 581.0000 - tn: 2701.0000 - fn: 1115.0000 - accuracy: 0.6896 - precision: 0.6475 - recall: 0.4890 - auc: 0.7559 - prc: 0.6274\n",
            "Epoch 00032: val_loss did not improve from 0.49183\n",
            "687/687 [==============================] - 2s 3ms/step - loss: 0.5849 - tp: 1069.0000 - fp: 585.0000 - tn: 2714.0000 - fn: 1123.0000 - accuracy: 0.6889 - precision: 0.6463 - recall: 0.4877 - auc: 0.7554 - prc: 0.6268 - val_loss: 0.4932 - val_tp: 39.0000 - val_fp: 237.0000 - val_tn: 1164.0000 - val_fn: 33.0000 - val_accuracy: 0.8167 - val_precision: 0.1413 - val_recall: 0.5417 - val_auc: 0.7772 - val_prc: 0.1378 - lr: 0.0010\n",
            "Epoch 33/50\n",
            "679/687 [============================>.] - ETA: 0s - loss: 0.5865 - tp: 1091.0000 - fp: 601.0000 - tn: 2667.0000 - fn: 1073.0000 - accuracy: 0.6918 - precision: 0.6448 - recall: 0.5042 - auc: 0.7534 - prc: 0.6287\n",
            "Epoch 00033: val_loss did not improve from 0.49183\n",
            "687/687 [==============================] - 2s 3ms/step - loss: 0.5866 - tp: 1109.0000 - fp: 605.0000 - tn: 2694.0000 - fn: 1083.0000 - accuracy: 0.6926 - precision: 0.6470 - recall: 0.5059 - auc: 0.7538 - prc: 0.6291 - val_loss: 0.4983 - val_tp: 41.0000 - val_fp: 266.0000 - val_tn: 1135.0000 - val_fn: 31.0000 - val_accuracy: 0.7984 - val_precision: 0.1336 - val_recall: 0.5694 - val_auc: 0.7805 - val_prc: 0.1382 - lr: 0.0010\n",
            "Epoch 34/50\n",
            "665/687 [============================>.] - ETA: 0s - loss: 0.5806 - tp: 1183.0000 - fp: 612.0000 - tn: 2580.0000 - fn: 945.0000 - accuracy: 0.7073 - precision: 0.6591 - recall: 0.5559 - auc: 0.7600 - prc: 0.6377\n",
            "Epoch 00034: val_loss did not improve from 0.49183\n",
            "687/687 [==============================] - 2s 2ms/step - loss: 0.5822 - tp: 1215.0000 - fp: 628.0000 - tn: 2671.0000 - fn: 977.0000 - accuracy: 0.7077 - precision: 0.6593 - recall: 0.5543 - auc: 0.7605 - prc: 0.6383 - val_loss: 0.4928 - val_tp: 41.0000 - val_fp: 261.0000 - val_tn: 1140.0000 - val_fn: 31.0000 - val_accuracy: 0.8018 - val_precision: 0.1358 - val_recall: 0.5694 - val_auc: 0.7829 - val_prc: 0.1407 - lr: 0.0010\n",
            "Epoch 35/50\n",
            "668/687 [============================>.] - ETA: 0s - loss: 0.5812 - tp: 1176.0000 - fp: 697.0000 - tn: 2515.0000 - fn: 956.0000 - accuracy: 0.6907 - precision: 0.6279 - recall: 0.5516 - auc: 0.7555 - prc: 0.6321\n",
            "Epoch 00035: val_loss improved from 0.49183 to 0.48430, saving model to ./ckpts/best_val_loss.hdf5\n",
            "687/687 [==============================] - 2s 2ms/step - loss: 0.5798 - tp: 1214.0000 - fp: 705.0000 - tn: 2594.0000 - fn: 978.0000 - accuracy: 0.6935 - precision: 0.6326 - recall: 0.5538 - auc: 0.7576 - prc: 0.6362 - val_loss: 0.4843 - val_tp: 40.0000 - val_fp: 253.0000 - val_tn: 1148.0000 - val_fn: 32.0000 - val_accuracy: 0.8065 - val_precision: 0.1365 - val_recall: 0.5556 - val_auc: 0.7840 - val_prc: 0.1408 - lr: 0.0010\n",
            "Epoch 36/50\n",
            "679/687 [============================>.] - ETA: 0s - loss: 0.5723 - tp: 1190.0000 - fp: 651.0000 - tn: 2610.0000 - fn: 981.0000 - accuracy: 0.6996 - precision: 0.6464 - recall: 0.5481 - auc: 0.7686 - prc: 0.6435\n",
            "Epoch 00036: val_loss improved from 0.48430 to 0.48027, saving model to ./ckpts/best_val_loss.hdf5\n",
            "687/687 [==============================] - 2s 3ms/step - loss: 0.5723 - tp: 1201.0000 - fp: 658.0000 - tn: 2641.0000 - fn: 991.0000 - accuracy: 0.6997 - precision: 0.6460 - recall: 0.5479 - auc: 0.7685 - prc: 0.6434 - val_loss: 0.4803 - val_tp: 42.0000 - val_fp: 260.0000 - val_tn: 1141.0000 - val_fn: 30.0000 - val_accuracy: 0.8031 - val_precision: 0.1391 - val_recall: 0.5833 - val_auc: 0.7862 - val_prc: 0.1404 - lr: 0.0010\n",
            "Epoch 37/50\n",
            "675/687 [============================>.] - ETA: 0s - loss: 0.5693 - tp: 1235.0000 - fp: 681.0000 - tn: 2560.0000 - fn: 924.0000 - accuracy: 0.7028 - precision: 0.6446 - recall: 0.5720 - auc: 0.7650 - prc: 0.6391\n",
            "Epoch 00037: val_loss improved from 0.48027 to 0.47811, saving model to ./ckpts/best_val_loss.hdf5\n",
            "687/687 [==============================] - 2s 3ms/step - loss: 0.5690 - tp: 1250.0000 - fp: 691.0000 - tn: 2608.0000 - fn: 942.0000 - accuracy: 0.7026 - precision: 0.6440 - recall: 0.5703 - auc: 0.7650 - prc: 0.6383 - val_loss: 0.4781 - val_tp: 44.0000 - val_fp: 274.0000 - val_tn: 1127.0000 - val_fn: 28.0000 - val_accuracy: 0.7950 - val_precision: 0.1384 - val_recall: 0.6111 - val_auc: 0.7873 - val_prc: 0.1411 - lr: 0.0010\n",
            "Epoch 38/50\n",
            "674/687 [============================>.] - ETA: 0s - loss: 0.5679 - tp: 1273.0000 - fp: 712.0000 - tn: 2529.0000 - fn: 878.0000 - accuracy: 0.7051 - precision: 0.6413 - recall: 0.5918 - auc: 0.7691 - prc: 0.6392\n",
            "Epoch 00038: val_loss improved from 0.47811 to 0.47615, saving model to ./ckpts/best_val_loss.hdf5\n",
            "687/687 [==============================] - 2s 3ms/step - loss: 0.5684 - tp: 1298.0000 - fp: 727.0000 - tn: 2572.0000 - fn: 894.0000 - accuracy: 0.7048 - precision: 0.6410 - recall: 0.5922 - auc: 0.7684 - prc: 0.6383 - val_loss: 0.4761 - val_tp: 46.0000 - val_fp: 276.0000 - val_tn: 1125.0000 - val_fn: 26.0000 - val_accuracy: 0.7950 - val_precision: 0.1429 - val_recall: 0.6389 - val_auc: 0.7905 - val_prc: 0.1433 - lr: 0.0010\n",
            "Epoch 39/50\n",
            "667/687 [============================>.] - ETA: 0s - loss: 0.5651 - tp: 1263.0000 - fp: 708.0000 - tn: 2490.0000 - fn: 875.0000 - accuracy: 0.7033 - precision: 0.6408 - recall: 0.5907 - auc: 0.7709 - prc: 0.6493\n",
            "Epoch 00039: val_loss improved from 0.47615 to 0.46907, saving model to ./ckpts/best_val_loss.hdf5\n",
            "687/687 [==============================] - 2s 2ms/step - loss: 0.5639 - tp: 1296.0000 - fp: 732.0000 - tn: 2567.0000 - fn: 896.0000 - accuracy: 0.7035 - precision: 0.6391 - recall: 0.5912 - auc: 0.7711 - prc: 0.6475 - val_loss: 0.4691 - val_tp: 45.0000 - val_fp: 270.0000 - val_tn: 1131.0000 - val_fn: 27.0000 - val_accuracy: 0.7984 - val_precision: 0.1429 - val_recall: 0.6250 - val_auc: 0.7909 - val_prc: 0.1423 - lr: 0.0010\n",
            "Epoch 40/50\n",
            "670/687 [============================>.] - ETA: 0s - loss: 0.5725 - tp: 1304.0000 - fp: 701.0000 - tn: 2520.0000 - fn: 835.0000 - accuracy: 0.7134 - precision: 0.6504 - recall: 0.6096 - auc: 0.7740 - prc: 0.6525\n",
            "Epoch 00040: val_loss did not improve from 0.46907\n",
            "687/687 [==============================] - 2s 3ms/step - loss: 0.5717 - tp: 1331.0000 - fp: 712.0000 - tn: 2587.0000 - fn: 861.0000 - accuracy: 0.7135 - precision: 0.6515 - recall: 0.6072 - auc: 0.7742 - prc: 0.6513 - val_loss: 0.4805 - val_tp: 47.0000 - val_fp: 296.0000 - val_tn: 1105.0000 - val_fn: 25.0000 - val_accuracy: 0.7821 - val_precision: 0.1370 - val_recall: 0.6528 - val_auc: 0.7951 - val_prc: 0.1426 - lr: 0.0010\n",
            "Epoch 41/50\n",
            "681/687 [============================>.] - ETA: 0s - loss: 0.5702 - tp: 1349.0000 - fp: 782.0000 - tn: 2488.0000 - fn: 829.0000 - accuracy: 0.7043 - precision: 0.6330 - recall: 0.6194 - auc: 0.7682 - prc: 0.6327\n",
            "Epoch 00041: val_loss did not improve from 0.46907\n",
            "687/687 [==============================] - 2s 2ms/step - loss: 0.5697 - tp: 1360.0000 - fp: 788.0000 - tn: 2511.0000 - fn: 832.0000 - accuracy: 0.7050 - precision: 0.6331 - recall: 0.6204 - auc: 0.7685 - prc: 0.6325 - val_loss: 0.4782 - val_tp: 48.0000 - val_fp: 290.0000 - val_tn: 1111.0000 - val_fn: 24.0000 - val_accuracy: 0.7868 - val_precision: 0.1420 - val_recall: 0.6667 - val_auc: 0.7971 - val_prc: 0.1448 - lr: 0.0010\n",
            "Epoch 42/50\n",
            "665/687 [============================>.] - ETA: 0s - loss: 0.5678 - tp: 1319.0000 - fp: 730.0000 - tn: 2460.0000 - fn: 811.0000 - accuracy: 0.7103 - precision: 0.6437 - recall: 0.6192 - auc: 0.7765 - prc: 0.6526\n",
            "Epoch 00042: val_loss did not improve from 0.46907\n",
            "687/687 [==============================] - 2s 2ms/step - loss: 0.5661 - tp: 1358.0000 - fp: 751.0000 - tn: 2548.0000 - fn: 834.0000 - accuracy: 0.7113 - precision: 0.6439 - recall: 0.6195 - auc: 0.7778 - prc: 0.6542 - val_loss: 0.4719 - val_tp: 47.0000 - val_fp: 280.0000 - val_tn: 1121.0000 - val_fn: 25.0000 - val_accuracy: 0.7929 - val_precision: 0.1437 - val_recall: 0.6528 - val_auc: 0.7987 - val_prc: 0.1436 - lr: 0.0010\n",
            "Epoch 43/50\n",
            "664/687 [===========================>..] - ETA: 0s - loss: 0.5656 - tp: 1317.0000 - fp: 749.0000 - tn: 2439.0000 - fn: 807.0000 - accuracy: 0.7071 - precision: 0.6375 - recall: 0.6201 - auc: 0.7746 - prc: 0.6513\n",
            "Epoch 00043: val_loss improved from 0.46907 to 0.46777, saving model to ./ckpts/best_val_loss.hdf5\n",
            "687/687 [==============================] - 2s 2ms/step - loss: 0.5656 - tp: 1358.0000 - fp: 771.0000 - tn: 2528.0000 - fn: 834.0000 - accuracy: 0.7077 - precision: 0.6379 - recall: 0.6195 - auc: 0.7750 - prc: 0.6519 - val_loss: 0.4678 - val_tp: 46.0000 - val_fp: 273.0000 - val_tn: 1128.0000 - val_fn: 26.0000 - val_accuracy: 0.7970 - val_precision: 0.1442 - val_recall: 0.6389 - val_auc: 0.8011 - val_prc: 0.1457 - lr: 0.0010\n",
            "Epoch 44/50\n",
            "681/687 [============================>.] - ETA: 0s - loss: 0.5605 - tp: 1345.0000 - fp: 734.0000 - tn: 2537.0000 - fn: 832.0000 - accuracy: 0.7126 - precision: 0.6469 - recall: 0.6178 - auc: 0.7787 - prc: 0.6551\n",
            "Epoch 00044: val_loss did not improve from 0.46777\n",
            "687/687 [==============================] - 2s 2ms/step - loss: 0.5598 - tp: 1358.0000 - fp: 740.0000 - tn: 2559.0000 - fn: 834.0000 - accuracy: 0.7133 - precision: 0.6473 - recall: 0.6195 - auc: 0.7795 - prc: 0.6554 - val_loss: 0.4694 - val_tp: 48.0000 - val_fp: 281.0000 - val_tn: 1120.0000 - val_fn: 24.0000 - val_accuracy: 0.7929 - val_precision: 0.1459 - val_recall: 0.6667 - val_auc: 0.8027 - val_prc: 0.1461 - lr: 0.0010\n",
            "Epoch 45/50\n",
            "680/687 [============================>.] - ETA: 0s - loss: 0.5562 - tp: 1371.0000 - fp: 757.0000 - tn: 2509.0000 - fn: 803.0000 - accuracy: 0.7132 - precision: 0.6443 - recall: 0.6306 - auc: 0.7815 - prc: 0.6579\n",
            "Epoch 00045: val_loss improved from 0.46777 to 0.46123, saving model to ./ckpts/best_val_loss.hdf5\n",
            "687/687 [==============================] - 2s 2ms/step - loss: 0.5555 - tp: 1384.0000 - fp: 761.0000 - tn: 2538.0000 - fn: 808.0000 - accuracy: 0.7143 - precision: 0.6452 - recall: 0.6314 - auc: 0.7822 - prc: 0.6585 - val_loss: 0.4612 - val_tp: 48.0000 - val_fp: 272.0000 - val_tn: 1129.0000 - val_fn: 24.0000 - val_accuracy: 0.7990 - val_precision: 0.1500 - val_recall: 0.6667 - val_auc: 0.8045 - val_prc: 0.1469 - lr: 0.0010\n",
            "Epoch 46/50\n",
            "677/687 [============================>.] - ETA: 0s - loss: 0.5532 - tp: 1366.0000 - fp: 714.0000 - tn: 2542.0000 - fn: 794.0000 - accuracy: 0.7216 - precision: 0.6567 - recall: 0.6324 - auc: 0.7858 - prc: 0.6717\n",
            "Epoch 00046: val_loss did not improve from 0.46123\n",
            "687/687 [==============================] - 2s 3ms/step - loss: 0.5536 - tp: 1388.0000 - fp: 727.0000 - tn: 2572.0000 - fn: 804.0000 - accuracy: 0.7212 - precision: 0.6563 - recall: 0.6332 - auc: 0.7852 - prc: 0.6709 - val_loss: 0.4702 - val_tp: 49.0000 - val_fp: 291.0000 - val_tn: 1110.0000 - val_fn: 23.0000 - val_accuracy: 0.7868 - val_precision: 0.1441 - val_recall: 0.6806 - val_auc: 0.8072 - val_prc: 0.1477 - lr: 0.0010\n",
            "Epoch 47/50\n",
            "686/687 [============================>.] - ETA: 0s - loss: 0.5528 - tp: 1425.0000 - fp: 760.0000 - tn: 2536.0000 - fn: 767.0000 - accuracy: 0.7218 - precision: 0.6522 - recall: 0.6501 - auc: 0.7865 - prc: 0.6709\n",
            "Epoch 00047: val_loss did not improve from 0.46123\n",
            "687/687 [==============================] - 2s 2ms/step - loss: 0.5526 - tp: 1425.0000 - fp: 760.0000 - tn: 2539.0000 - fn: 767.0000 - accuracy: 0.7219 - precision: 0.6522 - recall: 0.6501 - auc: 0.7866 - prc: 0.6709 - val_loss: 0.4624 - val_tp: 48.0000 - val_fp: 283.0000 - val_tn: 1118.0000 - val_fn: 24.0000 - val_accuracy: 0.7916 - val_precision: 0.1450 - val_recall: 0.6667 - val_auc: 0.8076 - val_prc: 0.1482 - lr: 0.0010\n",
            "Epoch 48/50\n",
            "679/687 [============================>.] - ETA: 0s - loss: 0.5510 - tp: 1406.0000 - fp: 768.0000 - tn: 2494.0000 - fn: 764.0000 - accuracy: 0.7180 - precision: 0.6467 - recall: 0.6479 - auc: 0.7845 - prc: 0.6686\n",
            "Epoch 00048: val_loss improved from 0.46123 to 0.46023, saving model to ./ckpts/best_val_loss.hdf5\n",
            "687/687 [==============================] - 2s 3ms/step - loss: 0.5501 - tp: 1420.0000 - fp: 775.0000 - tn: 2524.0000 - fn: 772.0000 - accuracy: 0.7183 - precision: 0.6469 - recall: 0.6478 - auc: 0.7853 - prc: 0.6692 - val_loss: 0.4602 - val_tp: 48.0000 - val_fp: 284.0000 - val_tn: 1117.0000 - val_fn: 24.0000 - val_accuracy: 0.7909 - val_precision: 0.1446 - val_recall: 0.6667 - val_auc: 0.8094 - val_prc: 0.1492 - lr: 0.0010\n",
            "Epoch 49/50\n",
            "665/687 [============================>.] - ETA: 0s - loss: 0.5510 - tp: 1392.0000 - fp: 754.0000 - tn: 2429.0000 - fn: 745.0000 - accuracy: 0.7182 - precision: 0.6486 - recall: 0.6514 - auc: 0.7867 - prc: 0.6728\n",
            "Epoch 00049: val_loss improved from 0.46023 to 0.45410, saving model to ./ckpts/best_val_loss.hdf5\n",
            "687/687 [==============================] - 2s 2ms/step - loss: 0.5485 - tp: 1425.0000 - fp: 778.0000 - tn: 2521.0000 - fn: 767.0000 - accuracy: 0.7186 - precision: 0.6468 - recall: 0.6501 - auc: 0.7882 - prc: 0.6718 - val_loss: 0.4541 - val_tp: 47.0000 - val_fp: 271.0000 - val_tn: 1130.0000 - val_fn: 25.0000 - val_accuracy: 0.7990 - val_precision: 0.1478 - val_recall: 0.6528 - val_auc: 0.8102 - val_prc: 0.1495 - lr: 0.0010\n",
            "Epoch 50/50\n",
            "684/687 [============================>.] - ETA: 0s - loss: 0.5461 - tp: 1385.0000 - fp: 742.0000 - tn: 2546.0000 - fn: 799.0000 - accuracy: 0.7184 - precision: 0.6512 - recall: 0.6342 - auc: 0.7880 - prc: 0.6644\n",
            "Epoch 00050: val_loss did not improve from 0.45410\n",
            "687/687 [==============================] - 2s 3ms/step - loss: 0.5463 - tp: 1390.0000 - fp: 746.0000 - tn: 2553.0000 - fn: 802.0000 - accuracy: 0.7181 - precision: 0.6507 - recall: 0.6341 - auc: 0.7876 - prc: 0.6633 - val_loss: 0.4621 - val_tp: 49.0000 - val_fp: 290.0000 - val_tn: 1111.0000 - val_fn: 23.0000 - val_accuracy: 0.7875 - val_precision: 0.1445 - val_recall: 0.6806 - val_auc: 0.8137 - val_prc: 0.1511 - lr: 0.0010\n"
          ]
        }
      ],
      "source": [
        "\n",
        "history = model.fit(x=X_train.astype(np.float), y=Y_train.astype(np.float), batch_size=8, epochs=50, validation_data=(X_test, Y_test), verbose=1, shuffle=True, callbacks=\n",
        "                                [ModelCheckpoint(filepath='./ckpts/best_val_loss.hdf5',\n",
        "                                               monitor= 'val_loss',\n",
        "                                               save_best_only=True,\n",
        "                                               mode='auto',\n",
        "                                               save_weights_only=True,\n",
        "                                               verbose=2),\n",
        "                                EarlyStopping(monitor='val_loss',\n",
        "                                             mode='auto',\n",
        "                                             patience=100,\n",
        "                                             verbose=1),  \n",
        "                                ReduceLROnPlateau(\n",
        "                                monitor='loss', factor=0.1, patience=10, verbose=1,\n",
        "                                mode='auto', min_delta=0.0001, cooldown=0, min_lr=0\n",
        "                            )])"
      ]
    },
    {
      "cell_type": "code",
      "execution_count": 195,
      "metadata": {
        "id": "B6cMIlyczCS_"
      },
      "outputs": [
        {
          "data": {
            "image/png": "[encoded data removed]",
            "text/plain": [
              "<Figure size 432x288 with 1 Axes>"
            ]
          },
          "metadata": {
            "needs_background": "light"
          },
          "output_type": "display_data"
        },
        {
          "data": {
            "image/png": "[encoded data removed]",
            "text/plain": [
              "<Figure size 432x288 with 1 Axes>"
            ]
          },
          "metadata": {
            "needs_background": "light"
          },
          "output_type": "display_data"
        },
        {
          "name": "stdout",
          "output_type": "stream",
          "text": [
            "Testing cross entropy: 2\n",
            "Confusion matrix for model: \n",
            "            predicted_stroke  predicted_no_stroke\n",
            "stroke                   47                  271\n",
            "no_stroke                25                 1130\n",
            "Classification report: \n",
            "               precision    recall  f1-score   support\n",
            "\n",
            "           0       0.81      0.98      0.88      1155\n",
            "           1       0.65      0.15      0.24       318\n",
            "\n",
            "    accuracy                           0.80      1473\n",
            "   macro avg       0.73      0.56      0.56      1473\n",
            "weighted avg       0.77      0.80      0.75      1473\n",
            "\n"
          ]
        },
        {
          "data": {
            "text/plain": [
              "0"
            ]
          },
          "execution_count": 195,
          "metadata": {},
          "output_type": "execute_result"
        }
      ],
      "source": [
        "history.history['loss']\n",
        "pyplot.plot(history.history['loss'], label='train')\n",
        "pyplot.plot(history.history['val_loss'], label='val')\n",
        "pyplot.xlabel(\"Epochs\")\n",
        "pyplot.ylabel(\"Loss\")\n",
        "pyplot.title(\"Training and Validation Loss Over %d Epochs\" % (len(history.history['loss']),))\n",
        "pyplot.legend()\n",
        "pyplot.show()\n",
        "\n",
        "history.history['accuracy']\n",
        "pyplot.plot(history.history['accuracy'], label='train')\n",
        "pyplot.plot(history.history['val_accuracy'], label='val')\n",
        "pyplot.xlabel(\"Epochs\")\n",
        "pyplot.ylabel(\"Accuracy\")\n",
        "pyplot.title(\"Training and Validation Accuracy Over %d Epochs\" % (len(history.history['loss']),))\n",
        "pyplot.legend()\n",
        "pyplot.show()\n",
        " \n",
        "from sklearn.metrics import log_loss # The data is binary\n",
        "from math import sqrt\n",
        "\n",
        "model.built = True\n",
        "model.load_weights(\"ckpts/best_val_loss.hdf5\")\n",
        "y_pred = model.predict(X_test)\n",
        "y_pred = [1 if i > 0.5 else 0 for i in y_pred] # roc curve when you change threshold\n",
        "cross_entropy = log_loss(Y_test, y_pred)\n",
        "print(\"Testing cross entropy: %d\" % sqrt(cross_entropy))\n",
        "confusion_mtrx(y_pred, Y_test)\n",
        "\n"
      ]
    },
    {
      "cell_type": "code",
      "execution_count": null,
      "metadata": {},
      "outputs": [
        {
          "name": "stdout",
          "output_type": "stream",
          "text": [
            "[1, 1, 1, 1, 1, 1, 1, 1, 0, 1, 1, 0, 1, 0, 0, 0, 1, 0, 0, 1, 1, 0, 1, 0, 0, 1, 1, 0, 1, 0, 1, 0, 0, 1, 1, 1, 0, 0, 1, 0, 1, 1, 0, 1, 1, 0, 0, 1, 0, 1, 0, 1, 1, 1, 0, 0, 1, 1, 1, 1, 0, 1, 1, 0, 1, 1, 1, 1, 1, 1, 1, 0, 0, 1, 1, 0, 0, 0, 1, 0, 0, 0, 0, 0, 0, 0, 1, 1, 1, 1, 1, 0, 0, 0, 0, 1, 0, 1, 1, 1, 0, 0, 1, 1, 1, 1, 0, 0, 1, 1, 0, 1, 1, 0, 0, 0, 1, 0, 1, 0, 0, 1, 0, 0, 1, 1, 1, 0, 1, 1, 0, 1, 1, 0, 1, 0, 1, 0, 1, 0, 0, 0, 1, 1, 1, 1, 1, 0, 0, 1, 0, 1, 1, 0, 0, 0, 0, 0, 1, 1, 0, 1, 1, 1, 0, 1, 1, 1, 0, 1, 0, 0, 1, 0, 0, 0, 0, 1, 0, 0, 1, 1, 0, 0, 0, 1, 1, 1, 1, 1, 1, 1, 0, 1, 1, 1, 1, 0, 1, 1, 1, 1, 0, 1, 0, 0, 1, 1, 1, 1, 0, 1, 1, 1, 1, 1, 1, 0, 1, 0, 1, 1, 0, 0, 1, 0, 0, 1, 1, 0, 1, 0, 1, 1, 1, 0, 1, 0, 0, 1, 1, 0, 1, 1, 0, 1, 1, 0, 1, 0, 1, 1, 0, 0, 0, 1, 0, 1, 0, 0, 1, 0, 1, 0, 0, 1, 1, 0, 0, 1, 1, 0, 0, 1, 0, 1, 1, 1, 0, 0, 1, 1, 1, 1, 0, 0, 0, 1, 1, 1, 1, 0, 0, 0, 1, 0, 0, 1, 1, 1, 1, 1, 1, 1, 1, 1, 0, 1, 1, 0, 1, 1, 0, 0, 0, 1, 1, 1, 0, 0, 0, 1, 0, 1, 1, 1, 1, 1, 1, 1, 0, 1, 0, 1, 1, 0, 1, 1, 1, 0, 1, 1, 1, 1, 1, 1, 1, 1, 1, 1, 0, 0, 0, 1, 0, 0, 0, 1, 0, 1, 0, 1, 1, 1, 0, 1, 1, 1, 0, 1, 0, 1, 0, 1, 0, 0, 1, 1, 1, 1, 1, 1, 1, 1, 0, 1, 1, 0, 0, 1, 0, 1, 0, 0, 0, 0, 1, 0, 0, 0, 0, 1, 0, 0, 1, 1, 0, 1, 1, 1, 0, 1, 1, 1, 1, 1, 0, 1, 0, 1, 0, 0, 1, 1, 0, 0, 1, 1, 1, 1, 1, 0, 0, 0, 0, 1, 1, 1, 0, 0, 1, 1, 1, 0, 0, 0, 1, 1, 0, 1, 1, 1, 1, 1, 0, 1, 0, 1, 1, 1, 0, 1, 0, 1, 1, 0, 1, 0, 1, 1, 1, 0, 0, 0, 1, 0, 1, 1, 1, 0, 1, 1, 0, 1, 0, 0, 0, 0, 1, 0, 0, 0, 0, 1, 1, 1, 1, 1, 0, 1, 0, 1, 1, 1, 0, 0, 1, 1, 0, 1, 1, 1, 1, 1, 1, 1, 0, 1, 0, 1, 1, 1, 1, 0, 1, 0, 1, 1, 1, 1, 1, 0, 0, 0, 0, 0, 1, 0, 0, 0, 0, 1, 1, 1, 1, 0, 1, 1, 1, 1, 1, 1, 0, 1, 1, 1, 1, 1, 0, 0, 0, 0, 1, 0, 1, 0, 1, 1, 1, 1, 1, 1, 0, 1, 1, 0, 0, 0, 1, 1, 1, 1, 1, 1, 1, 1, 0, 0, 1, 0, 1, 1, 1, 1, 1, 1, 0, 1, 1, 0, 0, 1, 0, 0, 0, 1, 1, 0, 0, 1, 0, 1, 1, 0, 0, 1, 1, 1, 1, 1, 0, 1, 0, 1, 1, 1, 1, 0, 1, 1, 1, 0, 1, 0, 1, 0, 0, 0, 1, 1, 1, 1, 1, 0, 0, 1, 0, 0, 1, 0, 1, 0, 1, 0, 1, 1, 1, 1, 1, 1, 1, 1, 1, 1, 1, 0, 1, 0, 1, 1, 0, 1, 1, 0, 1, 1, 0, 0, 1, 1, 1, 0, 0, 1, 1, 0, 0, 0, 1, 1, 0, 0, 1, 1, 0, 0, 1, 1, 1, 1, 1, 1, 0, 1, 1, 0, 0, 1, 1, 0, 0, 1, 1, 1, 1, 1, 1, 0, 0, 1, 1, 0, 1, 1, 0, 0, 1, 0, 1, 0, 1, 1, 1, 0, 1, 1, 1, 0, 0, 1, 0, 0, 0, 0, 1, 0, 1, 0, 1, 1, 1, 0, 1, 1, 1, 0, 1, 1, 1, 0, 1, 0, 1, 0, 1, 0, 0, 0, 0, 0, 1, 1, 0, 1, 1, 0, 1, 1, 0, 1, 1, 0, 0, 0, 0, 0, 1, 1, 1, 1, 1, 1, 1, 0, 1, 1, 0, 1, 1, 1, 0, 0, 0, 1, 1, 1, 1, 0, 1, 0, 1, 0, 0, 1, 1, 0, 1, 1, 1, 1, 1, 0, 1, 1, 1, 1, 1, 1, 1, 0, 1, 1, 0, 1, 0, 0, 1, 1, 1, 1, 1, 1, 0, 1, 1, 1, 0, 1, 1, 0, 0, 0, 0, 1, 0, 1, 1, 0, 0, 0, 1, 0, 0, 1, 0, 1, 1, 1, 0, 0, 1, 1, 1, 1, 0, 0, 1, 1, 1, 0, 0, 0, 1, 0, 1, 1, 0, 1, 1, 0, 0, 1, 1, 1, 0, 0, 1, 1, 0, 0, 0, 0, 1, 0, 1, 1, 1, 1, 0, 1, 1, 1, 1, 0, 0, 1, 1, 1, 0, 1, 0, 1, 0, 1, 1, 1, 0, 1, 1, 1, 1, 1, 1, 1, 1, 1, 1, 0, 1, 1, 0, 1, 0, 0, 0, 1, 0, 1, 0, 1, 1, 1, 1, 0, 1, 1, 0, 1, 1, 1, 1, 0, 0, 1, 1, 1, 1, 1, 0, 0, 1, 0, 1, 0, 0, 0, 0, 1, 1, 1, 1, 0, 1, 1, 1, 0, 0, 1, 1, 0, 1, 0, 0, 1, 1, 1, 0, 0, 1, 0, 1, 0, 1, 0, 1, 1, 1, 0, 0, 1, 1, 0, 1, 0, 1, 1, 1, 0, 1, 1, 0, 1, 0, 1, 0, 1, 1, 0, 1, 1, 1, 1, 1, 1, 1, 1, 1, 1, 0, 1, 0, 1, 0, 0, 1, 1, 1, 1, 1, 0, 1, 1, 1, 0, 1, 1, 1, 1, 1, 1, 1, 1, 1, 0, 0, 0, 0, 1, 0, 1, 1, 1, 1, 0, 1, 0, 0, 0, 1, 1, 1, 1, 1, 1, 0, 0, 0, 1, 0, 0, 1, 1, 1, 1, 1, 1, 1, 1, 0, 0, 0, 1, 1, 1, 1, 0, 0, 1, 1, 0, 0, 1, 0, 0, 1, 1, 0, 1, 0, 0, 1, 1, 1, 0, 0, 0, 1, 0, 1, 0, 0, 0, 1, 1, 1, 0, 1, 0, 1, 0, 1, 1, 1, 0, 1, 1, 1, 1, 1, 0, 0, 1, 1, 1, 0, 1, 1, 0, 0, 1, 1, 1, 1, 1, 1, 0, 1, 0, 1, 0, 0, 1, 1, 1, 1, 1, 1, 1, 0, 1, 0, 1, 1, 0, 0, 0, 0, 1, 1, 1, 1, 1, 1, 0, 1, 0, 0, 1, 1, 0, 1, 1, 0, 1, 0, 1, 1, 0, 1, 0, 1, 0, 0, 1, 1, 1, 1, 1, 0, 0, 0, 0, 0, 1, 1, 1, 0, 1, 1, 0, 1, 1, 0, 1, 0, 1, 1, 1, 1, 1, 0, 1, 0, 1, 1, 1, 1, 1, 1, 1, 1, 1, 0, 1, 1, 0, 1, 0, 0, 0, 0, 0, 1, 1, 1, 0, 1, 0, 1, 1, 0, 0, 1, 1, 1, 0, 0, 1, 0, 0, 1, 0, 1, 1, 1, 1, 0, 0, 0, 0, 1, 1, 1, 1, 0, 1, 1, 1, 1, 1, 0, 0, 1, 1, 1, 0, 1, 1, 0, 1, 1, 1, 0, 0, 1, 1, 0, 0, 1, 1, 1, 0, 1, 0, 1, 0, 1, 1, 1, 1, 1, 1, 1, 0, 0, 1, 1, 0, 1, 1, 0, 1, 1, 1, 0, 1, 1, 1, 0, 1, 1, 1, 0, 1, 0, 1, 0, 1, 0, 1, 1, 1, 1, 1, 1, 1, 1, 1, 0, 0, 1, 0, 1, 1, 0, 0, 0, 1, 0, 1, 0, 1, 0, 1, 1, 0, 1, 1, 0, 0, 0, 0, 1, 0, 1, 1, 0, 1, 0, 1, 0, 1, 0, 1, 1, 1, 1, 0, 1, 1, 1, 0, 0, 0, 1, 1, 1, 1, 1, 0, 1, 1, 0, 0, 1, 1, 1, 1, 0, 1, 0, 0, 1, 0, 1, 0, 0, 1, 1, 0, 0, 0, 0, 0, 1, 0, 0, 1, 1, 1, 1, 0, 1, 1, 1, 0, 0, 0, 1, 1, 1, 1, 0, 1, 1, 1, 1, 1, 1, 1, 0, 1, 0]\n",
            "Testing accuracy: 0.4419551934826884\n"
          ]
        }
      ],
      "source": [
        "oversample = list([i for i,j in zip(X_test,Y_test) if j == 1]) # 50-50 splitish\n",
        "x = np.array(list(X_test))\n",
        "y = np.array(list(Y_test))\n",
        "y_pred  = model.predict(x)\n",
        "y_pred = [1 if i > 0.5 else 0 for i in y_pred]\n",
        "accuracy =  np.sum(y == y_pred)\n",
        "print(f\"Testing accuracy: {accuracy/len(y_pred)}\")\n",
        "\n",
        "print(y_pred)"
      ]
    },
    {
      "cell_type": "code",
      "execution_count": null,
      "metadata": {},
      "outputs": [
        {
          "name": "stdout",
          "output_type": "stream",
          "text": [
            "0.9473742583042201\n"
          ]
        }
      ],
      "source": [
        "print(np.sum(y_pred==y)/len(y))\n"
      ]
    },
    {
      "cell_type": "markdown",
      "metadata": {
        "id": "QZewfQb7zBYZ"
      },
      "source": []
    }
  ],
  "metadata": {
    "accelerator": "GPU",
    "colab": {
      "collapsed_sections": [],
      "name": "fucky.ipynb",
      "provenance": [],
      "toc_visible": true
    },
    "kernelspec": {
      "display_name": "Python 3",
      "name": "python3"
    },
    "language_info": {
      "codemirror_mode": {
        "name": "ipython",
        "version": 3
      },
      "file_extension": ".py",
      "mimetype": "text/x-python",
      "name": "python",
      "nbconvert_exporter": "python",
      "pygments_lexer": "ipython3",
      "version": "3.9.7"
    }
  },
  "nbformat": 4,
  "nbformat_minor": 0
}
